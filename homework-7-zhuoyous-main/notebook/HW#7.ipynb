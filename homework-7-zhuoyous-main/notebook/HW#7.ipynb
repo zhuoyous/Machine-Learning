{
 "cells": [
  {
   "cell_type": "markdown",
   "id": "20764479",
   "metadata": {},
   "source": [
    "Name: Zhuoyou Shen\n",
    "\n",
    "ID: 2035073656\n",
    "\n",
    "GitHub Username: zhuoyous"
   ]
  },
  {
   "cell_type": "code",
   "execution_count": 1,
   "id": "e99e47d9",
   "metadata": {},
   "outputs": [],
   "source": [
    "import pandas as pd \n",
    "from sklearn.model_selection import train_test_split\n",
    "import numpy as np\n",
    "from sklearn.model_selection import GridSearchCV\n",
    "from sklearn.svm import SVC,LinearSVC\n",
    "from sklearn.metrics import accuracy_score,hamming_loss,silhouette_score\n",
    "from sklearn import preprocessing\n",
    "import warnings\n",
    "warnings.filterwarnings('ignore')\n",
    "from imblearn.over_sampling import SMOTE\n",
    "from sklearn.cluster import KMeans\n",
    "import statistics"
   ]
  },
  {
   "cell_type": "markdown",
   "id": "767aee78",
   "metadata": {},
   "source": [
    "(a)\n",
    "Download the Anuran Calls (MFCCs) Data Set from:\n",
    "https://archive.ics.\n",
    "uci.edu/ml/datasets/Anuran+Calls+%28MFCCs%29\n",
    ". Choose 70% of the data\n",
    "randomly as the training set."
   ]
  },
  {
   "cell_type": "code",
   "execution_count": 2,
   "id": "6de4cf70",
   "metadata": {},
   "outputs": [],
   "source": [
    "data = pd.read_csv('../data/Anuran Calls (MFCCs)/Frogs_MFCCs.csv')\n",
    "train_data,test_data = train_test_split(data,train_size=0.7, shuffle=True)"
   ]
  },
  {
   "cell_type": "markdown",
   "id": "494b1f8c",
   "metadata": {},
   "source": [
    "(b)\n",
    "Each instance has three labels: Families, Genus, and Species. Each of the labels\n",
    "has multiple classes. We wish to solve a multi-class and multi-label problem.\n",
    "One of the most important approaches to multi-label classification is to train a\n",
    "classifier for each label (binary relevance). We first try this approach:"
   ]
  },
  {
   "cell_type": "markdown",
   "id": "0e2f1f3a",
   "metadata": {},
   "source": [
    "i.\n",
    "Research exact match and hamming score/ loss methods for evaluating multi-\n",
    "label classification and use them in evaluating the classifiers in this problem."
   ]
  },
  {
   "cell_type": "markdown",
   "id": "98404380",
   "metadata": {},
   "source": [
    "Exact Match : In the multi-class and multi-label situation, it means that whether we have the entire set of predicted labels for a sample strictly match the actual set of labels or we have partially correct matches. If we have all the matches correctly labeled, the accracy score is 1. Even though we have partially correct matches, the accracy score is 0."
   ]
  },
  {
   "cell_type": "markdown",
   "id": "29a87106",
   "metadata": {},
   "source": [
    "Hamming loss : Hamming loss is the fraction of wrong labels to the total number of labels. In multi-class classification, hamming loss is calculated as the hamming distance between y_true and y_pred ."
   ]
  },
  {
   "cell_type": "markdown",
   "id": "fcc81b41",
   "metadata": {},
   "source": [
    "ii.\n",
    "Train a SVM for each of the labels, using Gaussian kernels and one versus\n",
    "all classifiers. Determine the weight of the SVM penalty and the width of\n",
    "the Gaussian Kernel using 10 fold cross validation.\n",
    "1\n",
    "You are welcome to try\n",
    "to solve the problem with both standardized\n",
    "2\n",
    "and raw attributes and report\n",
    "the results."
   ]
  },
  {
   "cell_type": "code",
   "execution_count": 3,
   "id": "19fc0770",
   "metadata": {},
   "outputs": [],
   "source": [
    "train_data_x = train_data.drop(['Family','Genus','Species','RecordID'], axis=1)\n",
    "train_data_y = train_data[['Family','Genus','Species']]\n",
    "test_data_x = test_data.drop(['Family','Genus','Species','RecordID'], axis=1)\n",
    "test_data_y = test_data[['Family','Genus','Species']]"
   ]
  },
  {
   "cell_type": "code",
   "execution_count": 4,
   "id": "cf9ad03f",
   "metadata": {},
   "outputs": [],
   "source": [
    "gamma = np.linspace(0.1,2,20)\n",
    "c = np.logspace(-1,3,5)\n",
    "para = [{'gamma': gamma , 'C': c }]\n",
    "svm_model = SVC(kernel='rbf', decision_function_shape='ovr')\n",
    "grid_model = GridSearchCV(svm_model, param_grid=para, cv=10)"
   ]
  },
  {
   "cell_type": "markdown",
   "id": "54738313",
   "metadata": {},
   "source": [
    "Label:Family"
   ]
  },
  {
   "cell_type": "code",
   "execution_count": 5,
   "id": "e01124be",
   "metadata": {},
   "outputs": [
    {
     "name": "stdout",
     "output_type": "stream",
     "text": [
      "The weight of the SVM penalty is 100.0\n",
      "the width of the Gaussian Kernel using 10 fold cross validation is 1.8\n",
      "The exact loss of label family is 0.006484483557202436\n",
      "The hamming loss of label family is 0.006484483557202408\n"
     ]
    }
   ],
   "source": [
    "model = grid_model.fit(train_data_x,train_data['Family'])\n",
    "params = model.best_params_\n",
    "svm_p = params['C']\n",
    "wid = params['gamma']\n",
    "print('The weight of the SVM penalty is',svm_p)\n",
    "print('the width of the Gaussian Kernel using 10 fold cross validation is',wid)\n",
    "pre =pre_f = model.predict(test_data_x)\n",
    "ex_score = accuracy_score(pre,test_data['Family'])\n",
    "ex_loss = 1 - ex_score\n",
    "print('The exact loss of label family is',ex_loss)\n",
    "hamm_loss = fam_loss = hamming_loss(pre,test_data['Family'],)\n",
    "print('The hamming loss of label family is',hamm_loss)"
   ]
  },
  {
   "cell_type": "markdown",
   "id": "eb9267a0",
   "metadata": {},
   "source": [
    "Label:Genus"
   ]
  },
  {
   "cell_type": "code",
   "execution_count": 6,
   "id": "837a1ae3",
   "metadata": {},
   "outputs": [
    {
     "name": "stdout",
     "output_type": "stream",
     "text": [
      "The weight of the SVM penalty is 100.0\n",
      "the width of the Gaussian Kernel using 10 fold cross validation is 1.5999999999999999\n",
      "The exact loss of label Genus is 0.007874015748031482\n",
      "The hamming loss of label Genus is 0.007874015748031496\n"
     ]
    }
   ],
   "source": [
    "model = grid_model.fit(train_data_x,train_data['Genus'])\n",
    "params = model.best_params_\n",
    "svm_p = params['C']\n",
    "wid = params['gamma']\n",
    "print('The weight of the SVM penalty is',svm_p)\n",
    "print('the width of the Gaussian Kernel using 10 fold cross validation is',wid)\n",
    "pre = pre_g= model.predict(test_data_x)\n",
    "ex_score = accuracy_score(pre,test_data['Genus'])\n",
    "ex_loss = 1 - ex_score\n",
    "print('The exact loss of label Genus is',ex_loss)\n",
    "hamm_loss= genus_loss = hamming_loss(pre,test_data['Genus'],)\n",
    "print('The hamming loss of label Genus is',hamm_loss)"
   ]
  },
  {
   "cell_type": "markdown",
   "id": "8e212d92",
   "metadata": {},
   "source": [
    "Label:Species"
   ]
  },
  {
   "cell_type": "code",
   "execution_count": 7,
   "id": "cc830200",
   "metadata": {},
   "outputs": [
    {
     "name": "stdout",
     "output_type": "stream",
     "text": [
      "The weight of the SVM penalty is 100.0\n",
      "the width of the Gaussian Kernel using 10 fold cross validation is 2.0\n",
      "The exact loss of label Species is 0.009263547938860639\n",
      "The hamming loss of label Species is 0.009263547938860583\n"
     ]
    }
   ],
   "source": [
    "model = grid_model.fit(train_data_x,train_data['Species'])\n",
    "params = model.best_params_\n",
    "svm_p = params['C']\n",
    "wid = params['gamma']\n",
    "print('The weight of the SVM penalty is',svm_p)\n",
    "print('the width of the Gaussian Kernel using 10 fold cross validation is',wid)\n",
    "pre = pre_s= model.predict(test_data_x)\n",
    "ex_score = accuracy_score(pre,test_data['Species'])\n",
    "ex_loss = 1 - ex_score\n",
    "print('The exact loss of label Species is',ex_loss)\n",
    "hamm_loss = spe_loss= hamming_loss(pre,test_data['Species'],)\n",
    "print('The hamming loss of label Species is',hamm_loss)"
   ]
  },
  {
   "cell_type": "markdown",
   "id": "ccb7dafc",
   "metadata": {},
   "source": [
    "Avrage Hamming Loss"
   ]
  },
  {
   "cell_type": "code",
   "execution_count": 8,
   "id": "877daaa3",
   "metadata": {},
   "outputs": [
    {
     "data": {
      "text/plain": [
       "0.007874015748031496"
      ]
     },
     "execution_count": 8,
     "metadata": {},
     "output_type": "execute_result"
    }
   ],
   "source": [
    "a_1 = (spe_loss + genus_loss + fam_loss)/3\n",
    "a_1"
   ]
  },
  {
   "cell_type": "markdown",
   "id": "818dc6e0",
   "metadata": {},
   "source": [
    "Average Exact Matching Loss"
   ]
  },
  {
   "cell_type": "code",
   "execution_count": 9,
   "id": "09618a0d",
   "metadata": {},
   "outputs": [
    {
     "data": {
      "text/plain": [
       "0.012505789717461746"
      ]
     },
     "execution_count": 9,
     "metadata": {},
     "output_type": "execute_result"
    }
   ],
   "source": [
    "a = 0\n",
    "for i in range(len(test_data)):\n",
    "    if (test_data['Family'].ravel()[i] == pre_f[i] and  test_data['Genus'].ravel()[i] == pre_g[i] and test_data['Species'].ravel()[i] == pre_s[i]):\n",
    "        a = a + 1\n",
    "a_2 = 1-(a/len(test_data))\n",
    "a_2"
   ]
  },
  {
   "cell_type": "markdown",
   "id": "7ca07b95",
   "metadata": {},
   "source": [
    "iii.\n",
    "Repeat 1(b)ii with\n",
    "L\n",
    "1\n",
    "-penalized SVMs.\n",
    "3\n",
    "Remember to standardize\n",
    "4\n",
    "the at-\n",
    "tributes. Determine the weight of the SVM penalty using 10 fold cross vali-\n",
    "dation."
   ]
  },
  {
   "cell_type": "code",
   "execution_count": 10,
   "id": "6604e0ef",
   "metadata": {},
   "outputs": [],
   "source": [
    "scaler = preprocessing.StandardScaler()\n",
    "scaler = scaler.fit(train_data_x)\n",
    "scale_train_x = scaler.transform(train_data_x)\n",
    "sclae_test_x = scaler.transform(test_data_x)"
   ]
  },
  {
   "cell_type": "code",
   "execution_count": 11,
   "id": "375a8cfa",
   "metadata": {},
   "outputs": [],
   "source": [
    "l1_model = LinearSVC(penalty='l1',multi_class='ovr', dual=False)\n",
    "l1_para = {'C':c}\n",
    "grid_model = GridSearchCV(l1_model, param_grid = l1_para, cv=10)"
   ]
  },
  {
   "cell_type": "markdown",
   "id": "ac7ec21e",
   "metadata": {},
   "source": [
    "Label:Family"
   ]
  },
  {
   "cell_type": "code",
   "execution_count": 12,
   "id": "eb267767",
   "metadata": {},
   "outputs": [
    {
     "name": "stdout",
     "output_type": "stream",
     "text": [
      "The weight of the SVM penalty is 1.0\n",
      "The exact loss of label Family is 0.0750347383047707\n",
      "The hamming loss of label Family is 0.07503473830477073\n"
     ]
    }
   ],
   "source": [
    "model = grid_model.fit(scale_train_x,train_data['Family'])\n",
    "params = model.best_params_\n",
    "svm_p = params['C']\n",
    "print('The weight of the SVM penalty is',svm_p)\n",
    "pre = pre_f= model.predict(sclae_test_x)\n",
    "ex_score = accuracy_score(pre,test_data['Family'])\n",
    "ex_loss = 1 - ex_score\n",
    "print('The exact loss of label Family is',ex_loss)\n",
    "hamm_loss = fam_loss= hamming_loss(pre,test_data['Family'],)\n",
    "print('The hamming loss of label Family is',hamm_loss)"
   ]
  },
  {
   "cell_type": "markdown",
   "id": "bcddadd3",
   "metadata": {},
   "source": [
    "Label:Genus"
   ]
  },
  {
   "cell_type": "code",
   "execution_count": 13,
   "id": "b79b4891",
   "metadata": {},
   "outputs": [
    {
     "name": "stdout",
     "output_type": "stream",
     "text": [
      "The weight of the SVM penalty is 100.0\n",
      "The exact loss of label Genus is 0.05650764242704953\n",
      "The hamming loss of label Genus is 0.05650764242704956\n"
     ]
    }
   ],
   "source": [
    "model = grid_model.fit(scale_train_x,train_data['Genus'])\n",
    "params = model.best_params_\n",
    "svm_p = params['C']\n",
    "print('The weight of the SVM penalty is',svm_p)\n",
    "pre = pre_g= model.predict(sclae_test_x)\n",
    "ex_score = accuracy_score(pre,test_data['Genus'])\n",
    "ex_loss = 1 - ex_score\n",
    "print('The exact loss of label Genus is',ex_loss)\n",
    "hamm_loss = genus_loss= hamming_loss(pre,test_data['Genus'],)\n",
    "print('The hamming loss of label Genus is',hamm_loss)"
   ]
  },
  {
   "cell_type": "markdown",
   "id": "95b7fde9",
   "metadata": {},
   "source": [
    "Label:Species"
   ]
  },
  {
   "cell_type": "code",
   "execution_count": 14,
   "id": "6f4c8ff7",
   "metadata": {},
   "outputs": [
    {
     "name": "stdout",
     "output_type": "stream",
     "text": [
      "The weight of the SVM penalty is 10.0\n",
      "The exact loss of label Species is 0.05326540064844831\n",
      "The hamming loss of label Species is 0.053265400648448355\n"
     ]
    }
   ],
   "source": [
    "model = grid_model.fit(scale_train_x,train_data['Species'])\n",
    "params = model.best_params_\n",
    "svm_p = params['C']\n",
    "print('The weight of the SVM penalty is',svm_p)\n",
    "pre = pre_s= model.predict(sclae_test_x)\n",
    "ex_score = accuracy_score(pre,test_data['Species'])\n",
    "ex_loss = 1 - ex_score\n",
    "print('The exact loss of label Species is',ex_loss)\n",
    "hamm_loss = spe_loss= hamming_loss(pre,test_data['Species'],)\n",
    "print('The hamming loss of label Species is',hamm_loss)"
   ]
  },
  {
   "cell_type": "markdown",
   "id": "44a0702e",
   "metadata": {},
   "source": [
    "Avrage Hamming Loss"
   ]
  },
  {
   "cell_type": "code",
   "execution_count": 15,
   "id": "feaee57d",
   "metadata": {},
   "outputs": [
    {
     "data": {
      "text/plain": [
       "0.06160259379342289"
      ]
     },
     "execution_count": 15,
     "metadata": {},
     "output_type": "execute_result"
    }
   ],
   "source": [
    "b_1 = (spe_loss + genus_loss + fam_loss)/3\n",
    "b_1"
   ]
  },
  {
   "cell_type": "markdown",
   "id": "87ec6142",
   "metadata": {},
   "source": [
    "Average Exact Matching Loss"
   ]
  },
  {
   "cell_type": "code",
   "execution_count": 16,
   "id": "634bf1eb",
   "metadata": {},
   "outputs": [
    {
     "data": {
      "text/plain": [
       "0.09448818897637801"
      ]
     },
     "execution_count": 16,
     "metadata": {},
     "output_type": "execute_result"
    }
   ],
   "source": [
    "a = 0\n",
    "for i in range(len(test_data)):\n",
    "    if (test_data['Family'].ravel()[i] == pre_f[i] and  test_data['Genus'].ravel()[i] == pre_g[i] and test_data['Species'].ravel()[i] == pre_s[i]):\n",
    "        a = a + 1\n",
    "b_2 = 1-(a/len(test_data))\n",
    "b_2"
   ]
  },
  {
   "cell_type": "markdown",
   "id": "fcf29a74",
   "metadata": {},
   "source": [
    "iv.\n",
    "Repeat 1(b)iii by using SMOTE or any other method you know to remedy\n",
    "class imbalance. Report your conclusions about the classifiers you trained."
   ]
  },
  {
   "cell_type": "code",
   "execution_count": 17,
   "id": "e26277af",
   "metadata": {},
   "outputs": [],
   "source": [
    "smote = SMOTE()\n",
    "f_train_data_x, f_train_data_y = smote.fit_resample(train_data_x, train_data['Family'])\n",
    "g_train_data_x, g_train_data_y = smote.fit_resample(train_data_x, train_data['Genus'])\n",
    "s_train_data_x, s_train_data_y = smote.fit_resample(train_data_x, train_data['Species'])"
   ]
  },
  {
   "cell_type": "code",
   "execution_count": 18,
   "id": "44a9ad49",
   "metadata": {},
   "outputs": [],
   "source": [
    "l1_model = LinearSVC(penalty='l1',multi_class='ovr', dual=False)\n",
    "l1_para = {'C':c}\n",
    "grid_model = GridSearchCV(l1_model, param_grid = l1_para, cv=10)"
   ]
  },
  {
   "cell_type": "markdown",
   "id": "80f5fa7d",
   "metadata": {},
   "source": [
    "Label:Family"
   ]
  },
  {
   "cell_type": "code",
   "execution_count": 19,
   "id": "b2b9c864",
   "metadata": {},
   "outputs": [
    {
     "name": "stdout",
     "output_type": "stream",
     "text": [
      "The weight of the SVM penalty is 1000.0\n",
      "The exact loss of label Family is 0.09911996294580827\n",
      "The hamming loss of label Family is 0.09911996294580824\n"
     ]
    }
   ],
   "source": [
    "model = grid_model.fit(f_train_data_x,f_train_data_y)\n",
    "params = model.best_params_\n",
    "svm_p = params['C']\n",
    "print('The weight of the SVM penalty is',svm_p)\n",
    "pre = pre_f= model.predict(test_data_x)\n",
    "ex_score = accuracy_score(pre,test_data['Family'])\n",
    "ex_loss = 1 - ex_score\n",
    "print('The exact loss of label Family is',ex_loss)\n",
    "hamm_loss = fam_loss= hamming_loss(pre,test_data['Family'],)\n",
    "print('The hamming loss of label Family is',hamm_loss)"
   ]
  },
  {
   "cell_type": "markdown",
   "id": "802d05da",
   "metadata": {},
   "source": [
    "Label:Genus"
   ]
  },
  {
   "cell_type": "code",
   "execution_count": 20,
   "id": "fe2e4c98",
   "metadata": {},
   "outputs": [
    {
     "name": "stdout",
     "output_type": "stream",
     "text": [
      "The weight of the SVM penalty is 100.0\n",
      "The exact loss of label Genus is 0.09587772116720705\n",
      "The hamming loss of label Genus is 0.09587772116720704\n"
     ]
    }
   ],
   "source": [
    "model = grid_model.fit(g_train_data_x,g_train_data_y)\n",
    "params = model.best_params_\n",
    "svm_p = params['C']\n",
    "print('The weight of the SVM penalty is',svm_p)\n",
    "pre = pre_g= model.predict(test_data_x)\n",
    "ex_score = accuracy_score(pre,test_data['Genus'])\n",
    "ex_loss = 1 - ex_score\n",
    "print('The exact loss of label Genus is',ex_loss)\n",
    "hamm_loss = genus_loss= hamming_loss(pre,test_data['Genus'],)\n",
    "print('The hamming loss of label Genus is',hamm_loss)"
   ]
  },
  {
   "cell_type": "markdown",
   "id": "43cfa79e",
   "metadata": {},
   "source": [
    "Label:Species"
   ]
  },
  {
   "cell_type": "code",
   "execution_count": 21,
   "id": "2e4a72e2",
   "metadata": {},
   "outputs": [
    {
     "name": "stdout",
     "output_type": "stream",
     "text": [
      "The weight of the SVM penalty is 1000.0\n",
      "The exact loss of label Species is 0.05974988420565075\n",
      "The hamming loss of label Species is 0.05974988420565076\n"
     ]
    }
   ],
   "source": [
    "model = grid_model.fit(s_train_data_x,s_train_data_y)\n",
    "params = model.best_params_\n",
    "svm_p = params['C']\n",
    "print('The weight of the SVM penalty is',svm_p)\n",
    "pre = pre_s= model.predict(test_data_x)\n",
    "ex_score = accuracy_score(pre,test_data['Species'])\n",
    "ex_loss = 1 - ex_score\n",
    "print('The exact loss of label Species is',ex_loss)\n",
    "hamm_loss = spe_loss= hamming_loss(pre,test_data['Species'],)\n",
    "print('The hamming loss of label Species is',hamm_loss)"
   ]
  },
  {
   "cell_type": "markdown",
   "id": "c1b00f32",
   "metadata": {},
   "source": [
    "Avrage Hamming Loss"
   ]
  },
  {
   "cell_type": "code",
   "execution_count": 22,
   "id": "ba65f219",
   "metadata": {},
   "outputs": [
    {
     "data": {
      "text/plain": [
       "0.08491585610622203"
      ]
     },
     "execution_count": 22,
     "metadata": {},
     "output_type": "execute_result"
    }
   ],
   "source": [
    "c_1 = (spe_loss + genus_loss + fam_loss)/3\n",
    "c_1"
   ]
  },
  {
   "cell_type": "markdown",
   "id": "18aad510",
   "metadata": {},
   "source": [
    "Average Exact Matching Loss"
   ]
  },
  {
   "cell_type": "code",
   "execution_count": 23,
   "id": "6e95d0ac",
   "metadata": {},
   "outputs": [
    {
     "data": {
      "text/plain": [
       "0.1528485409911996"
      ]
     },
     "execution_count": 23,
     "metadata": {},
     "output_type": "execute_result"
    }
   ],
   "source": [
    "a = 0\n",
    "for i in range(len(test_data)):\n",
    "    if (test_data['Family'].ravel()[i] == pre_f[i] and  test_data['Genus'].ravel()[i] == pre_g[i] and test_data['Species'].ravel()[i] == pre_s[i]):\n",
    "        a = a + 1\n",
    "c_2 = 1-(a/len(test_data))\n",
    "c_2"
   ]
  },
  {
   "cell_type": "markdown",
   "id": "d3e4aef8",
   "metadata": {},
   "source": [
    "Report"
   ]
  },
  {
   "cell_type": "code",
   "execution_count": 24,
   "id": "f89f8538",
   "metadata": {},
   "outputs": [
    {
     "data": {
      "text/html": [
       "<div>\n",
       "<style scoped>\n",
       "    .dataframe tbody tr th:only-of-type {\n",
       "        vertical-align: middle;\n",
       "    }\n",
       "\n",
       "    .dataframe tbody tr th {\n",
       "        vertical-align: top;\n",
       "    }\n",
       "\n",
       "    .dataframe thead th {\n",
       "        text-align: right;\n",
       "    }\n",
       "</style>\n",
       "<table border=\"1\" class=\"dataframe\">\n",
       "  <thead>\n",
       "    <tr style=\"text-align: right;\">\n",
       "      <th></th>\n",
       "      <th>Model</th>\n",
       "      <th>Average Exact Match Loss</th>\n",
       "      <th>Average Hamming Loss</th>\n",
       "    </tr>\n",
       "  </thead>\n",
       "  <tbody>\n",
       "    <tr>\n",
       "      <th>0</th>\n",
       "      <td>Gaussian kernel SVM</td>\n",
       "      <td>0.012506</td>\n",
       "      <td>0.007874</td>\n",
       "    </tr>\n",
       "    <tr>\n",
       "      <th>1</th>\n",
       "      <td>L1-penalized SVM</td>\n",
       "      <td>0.094488</td>\n",
       "      <td>0.061603</td>\n",
       "    </tr>\n",
       "    <tr>\n",
       "      <th>2</th>\n",
       "      <td>L1-penalized SVM with SMOTE</td>\n",
       "      <td>0.152849</td>\n",
       "      <td>0.084916</td>\n",
       "    </tr>\n",
       "  </tbody>\n",
       "</table>\n",
       "</div>"
      ],
      "text/plain": [
       "                         Model  Average Exact Match Loss  Average Hamming Loss\n",
       "0          Gaussian kernel SVM                  0.012506              0.007874\n",
       "1             L1-penalized SVM                  0.094488              0.061603\n",
       "2  L1-penalized SVM with SMOTE                  0.152849              0.084916"
      ]
     },
     "execution_count": 24,
     "metadata": {},
     "output_type": "execute_result"
    }
   ],
   "source": [
    "da = {'Model':['Gaussian kernel SVM','L1-penalized SVM','L1-penalized SVM with SMOTE'],'Average Exact Match Loss':[a_2,b_2,c_2],'Average Hamming Loss':[a_1,b_1,c_1]}\n",
    "table = pd.DataFrame(da)\n",
    "table"
   ]
  },
  {
   "cell_type": "markdown",
   "id": "f206e601",
   "metadata": {},
   "source": [
    "As we can see in these three classifiers, the hamming losses are lower than their exact match losses, which is correct since exact match is more strict to the output in the multi-label situation."
   ]
  },
  {
   "cell_type": "markdown",
   "id": "393d5881",
   "metadata": {},
   "source": [
    "The Average Exact Match Loss increases a lot from L1-penalized SVM  to L1-penalized SVM with SMOTE."
   ]
  },
  {
   "cell_type": "markdown",
   "id": "d4ca8979",
   "metadata": {},
   "source": [
    "Our conclusion is that Gaussian kernel SVM has the lowest exact match loss and hamming loss. Thus, Gaussian kernel SVM performs the best compared to other two classifiers."
   ]
  },
  {
   "cell_type": "markdown",
   "id": "e5ad0093",
   "metadata": {},
   "source": [
    "2.\n",
    "K-Means Clustering on a Multi-Class and Multi-Label Data Set\n",
    "Monte-Carlo Simulation:\n",
    "Perform the following procedures 50 times, and report\n",
    "the average and standard deviation of the 50 Hamming Distances that you calculate."
   ]
  },
  {
   "cell_type": "markdown",
   "id": "f8bba59a",
   "metadata": {},
   "source": [
    "(a)\n",
    "Use k-means clustering on the whole Anuran Calls (MFCCs) Data Set (do not split\n",
    "the data into train and test, as we are not performing supervised learning in this\n",
    "exercise). Choose\n",
    "k\n",
    "∈ {\n",
    "1\n",
    ",\n",
    "2\n",
    ", . . . ,\n",
    "50\n",
    "}\n",
    "automatically based on one of the methods\n",
    "provided in the slides (CH or Gap Statistics or scree plots or Silhouettes) or any\n",
    "other method you know."
   ]
  },
  {
   "cell_type": "markdown",
   "id": "2417f0c0",
   "metadata": {},
   "source": [
    "Silhouettes to find optimal k"
   ]
  },
  {
   "cell_type": "code",
   "execution_count": 25,
   "id": "e9eb3654",
   "metadata": {},
   "outputs": [
    {
     "name": "stdout",
     "output_type": "stream",
     "text": [
      "In the 1 run the optimal k is 4\n",
      "In the 2 run the optimal k is 4\n",
      "In the 3 run the optimal k is 4\n",
      "In the 4 run the optimal k is 4\n",
      "In the 5 run the optimal k is 4\n",
      "In the 6 run the optimal k is 4\n",
      "In the 7 run the optimal k is 4\n",
      "In the 8 run the optimal k is 4\n",
      "In the 9 run the optimal k is 4\n",
      "In the 10 run the optimal k is 4\n",
      "In the 11 run the optimal k is 4\n",
      "In the 12 run the optimal k is 4\n",
      "In the 13 run the optimal k is 4\n",
      "In the 14 run the optimal k is 4\n",
      "In the 15 run the optimal k is 4\n",
      "In the 16 run the optimal k is 4\n",
      "In the 17 run the optimal k is 4\n",
      "In the 18 run the optimal k is 4\n",
      "In the 19 run the optimal k is 4\n",
      "In the 20 run the optimal k is 4\n",
      "In the 21 run the optimal k is 4\n",
      "In the 22 run the optimal k is 4\n",
      "In the 23 run the optimal k is 4\n",
      "In the 24 run the optimal k is 4\n",
      "In the 25 run the optimal k is 4\n",
      "In the 26 run the optimal k is 4\n",
      "In the 27 run the optimal k is 4\n",
      "In the 28 run the optimal k is 4\n",
      "In the 29 run the optimal k is 4\n",
      "In the 30 run the optimal k is 4\n",
      "In the 31 run the optimal k is 4\n",
      "In the 32 run the optimal k is 4\n",
      "In the 33 run the optimal k is 4\n",
      "In the 34 run the optimal k is 4\n",
      "In the 35 run the optimal k is 4\n",
      "In the 36 run the optimal k is 4\n",
      "In the 37 run the optimal k is 4\n",
      "In the 38 run the optimal k is 4\n",
      "In the 39 run the optimal k is 4\n",
      "In the 40 run the optimal k is 4\n",
      "In the 41 run the optimal k is 4\n",
      "In the 42 run the optimal k is 4\n",
      "In the 43 run the optimal k is 4\n",
      "In the 44 run the optimal k is 4\n",
      "In the 45 run the optimal k is 4\n",
      "In the 46 run the optimal k is 4\n",
      "In the 47 run the optimal k is 4\n",
      "In the 48 run the optimal k is 4\n",
      "In the 49 run the optimal k is 4\n",
      "In the 50 run the optimal k is 4\n"
     ]
    }
   ],
   "source": [
    "data_x = data.drop(['Family','Genus','Species','RecordID'], axis=1)\n",
    "k_dict = {}\n",
    "for i in range(1,51):\n",
    "    si_score = {}\n",
    "    for k in range(2,51):\n",
    "        k_model = KMeans(n_clusters = k)\n",
    "        k_model = k_model.fit(data_x)\n",
    "        k_label = k_model.labels_\n",
    "        si_score[k] = silhouette_score(data_x, k_label)\n",
    "    best_k = max(si_score, key = si_score.get)\n",
    "    k_dict[i] = best_k\n",
    "    print('In the',i,'run', 'the optimal k is',best_k)  "
   ]
  },
  {
   "cell_type": "markdown",
   "id": "141bdc21",
   "metadata": {},
   "source": [
    "(b)\n",
    "In each cluster, determine which family is the majority by reading the true labels.\n",
    "Repeat for genus and species."
   ]
  },
  {
   "cell_type": "code",
   "execution_count": 26,
   "id": "a72f3dd1",
   "metadata": {},
   "outputs": [],
   "source": [
    "label_dict = {}\n",
    "for i in range(1,51):\n",
    "    k_model = KMeans(n_clusters = best_k)\n",
    "    k_model = k_model.fit(data_x)\n",
    "    k_label = k_model.labels_\n",
    "    label_dict[i] = k_label"
   ]
  },
  {
   "cell_type": "code",
   "execution_count": 27,
   "id": "03f12bd3",
   "metadata": {},
   "outputs": [
    {
     "name": "stdout",
     "output_type": "stream",
     "text": [
      "In the 1 run , the cluster 1 : Family label is [ Leptodactylidae ], Genus label is[ Adenomera ],Species label is[ AdenomeraHylaedactylus ]\n",
      "In the 1 run , the cluster 2 : Family label is [ Hylidae ], Genus label is[ Hypsiboas ],Species label is[ HypsiboasCordobae ]\n",
      "In the 1 run , the cluster 3 : Family label is [ Dendrobatidae ], Genus label is[ Ameerega ],Species label is[ Ameeregatrivittata ]\n",
      "In the 1 run , the cluster 4 : Family label is [ Hylidae ], Genus label is[ Hypsiboas ],Species label is[ HypsiboasCinerascens ]\n",
      "In the 2 run , the cluster 1 : Family label is [ Leptodactylidae ], Genus label is[ Adenomera ],Species label is[ AdenomeraHylaedactylus ]\n",
      "In the 2 run , the cluster 2 : Family label is [ Hylidae ], Genus label is[ Hypsiboas ],Species label is[ HypsiboasCordobae ]\n",
      "In the 2 run , the cluster 3 : Family label is [ Dendrobatidae ], Genus label is[ Ameerega ],Species label is[ Ameeregatrivittata ]\n",
      "In the 2 run , the cluster 4 : Family label is [ Hylidae ], Genus label is[ Hypsiboas ],Species label is[ HypsiboasCinerascens ]\n",
      "In the 3 run , the cluster 1 : Family label is [ Leptodactylidae ], Genus label is[ Adenomera ],Species label is[ AdenomeraHylaedactylus ]\n",
      "In the 3 run , the cluster 2 : Family label is [ Hylidae ], Genus label is[ Hypsiboas ],Species label is[ HypsiboasCordobae ]\n",
      "In the 3 run , the cluster 3 : Family label is [ Dendrobatidae ], Genus label is[ Ameerega ],Species label is[ Ameeregatrivittata ]\n",
      "In the 3 run , the cluster 4 : Family label is [ Hylidae ], Genus label is[ Hypsiboas ],Species label is[ HypsiboasCinerascens ]\n",
      "In the 4 run , the cluster 1 : Family label is [ Hylidae ], Genus label is[ Hypsiboas ],Species label is[ HypsiboasCordobae ]\n",
      "In the 4 run , the cluster 2 : Family label is [ Leptodactylidae ], Genus label is[ Adenomera ],Species label is[ AdenomeraHylaedactylus ]\n",
      "In the 4 run , the cluster 3 : Family label is [ Hylidae ], Genus label is[ Hypsiboas ],Species label is[ HypsiboasCordobae ]\n",
      "In the 4 run , the cluster 4 : Family label is [ Leptodactylidae ], Genus label is[ Adenomera ],Species label is[ AdenomeraAndre ]\n",
      "In the 5 run , the cluster 1 : Family label is [ Hylidae ], Genus label is[ Hypsiboas ],Species label is[ HypsiboasCinerascens ]\n",
      "In the 5 run , the cluster 2 : Family label is [ Leptodactylidae ], Genus label is[ Adenomera ],Species label is[ AdenomeraHylaedactylus ]\n",
      "In the 5 run , the cluster 3 : Family label is [ Dendrobatidae ], Genus label is[ Ameerega ],Species label is[ Ameeregatrivittata ]\n",
      "In the 5 run , the cluster 4 : Family label is [ Hylidae ], Genus label is[ Hypsiboas ],Species label is[ HypsiboasCordobae ]\n",
      "In the 6 run , the cluster 1 : Family label is [ Hylidae ], Genus label is[ Hypsiboas ],Species label is[ HypsiboasCordobae ]\n",
      "In the 6 run , the cluster 2 : Family label is [ Leptodactylidae ], Genus label is[ Adenomera ],Species label is[ AdenomeraHylaedactylus ]\n",
      "In the 6 run , the cluster 3 : Family label is [ Hylidae ], Genus label is[ Hypsiboas ],Species label is[ HypsiboasCinerascens ]\n",
      "In the 6 run , the cluster 4 : Family label is [ Dendrobatidae ], Genus label is[ Ameerega ],Species label is[ Ameeregatrivittata ]\n",
      "In the 7 run , the cluster 1 : Family label is [ Hylidae ], Genus label is[ Hypsiboas ],Species label is[ HypsiboasCinerascens ]\n",
      "In the 7 run , the cluster 2 : Family label is [ Leptodactylidae ], Genus label is[ Adenomera ],Species label is[ AdenomeraHylaedactylus ]\n",
      "In the 7 run , the cluster 3 : Family label is [ Hylidae ], Genus label is[ Hypsiboas ],Species label is[ HypsiboasCordobae ]\n",
      "In the 7 run , the cluster 4 : Family label is [ Dendrobatidae ], Genus label is[ Ameerega ],Species label is[ Ameeregatrivittata ]\n",
      "In the 8 run , the cluster 1 : Family label is [ Leptodactylidae ], Genus label is[ Adenomera ],Species label is[ AdenomeraHylaedactylus ]\n",
      "In the 8 run , the cluster 2 : Family label is [ Hylidae ], Genus label is[ Hypsiboas ],Species label is[ HypsiboasCinerascens ]\n",
      "In the 8 run , the cluster 3 : Family label is [ Hylidae ], Genus label is[ Hypsiboas ],Species label is[ HypsiboasCordobae ]\n",
      "In the 8 run , the cluster 4 : Family label is [ Dendrobatidae ], Genus label is[ Ameerega ],Species label is[ Ameeregatrivittata ]\n",
      "In the 9 run , the cluster 1 : Family label is [ Leptodactylidae ], Genus label is[ Adenomera ],Species label is[ AdenomeraHylaedactylus ]\n",
      "In the 9 run , the cluster 2 : Family label is [ Hylidae ], Genus label is[ Hypsiboas ],Species label is[ HypsiboasCinerascens ]\n",
      "In the 9 run , the cluster 3 : Family label is [ Hylidae ], Genus label is[ Hypsiboas ],Species label is[ HypsiboasCordobae ]\n",
      "In the 9 run , the cluster 4 : Family label is [ Dendrobatidae ], Genus label is[ Ameerega ],Species label is[ Ameeregatrivittata ]\n",
      "In the 10 run , the cluster 1 : Family label is [ Leptodactylidae ], Genus label is[ Adenomera ],Species label is[ AdenomeraHylaedactylus ]\n",
      "In the 10 run , the cluster 2 : Family label is [ Hylidae ], Genus label is[ Hypsiboas ],Species label is[ HypsiboasCinerascens ]\n",
      "In the 10 run , the cluster 3 : Family label is [ Dendrobatidae ], Genus label is[ Ameerega ],Species label is[ Ameeregatrivittata ]\n",
      "In the 10 run , the cluster 4 : Family label is [ Hylidae ], Genus label is[ Hypsiboas ],Species label is[ HypsiboasCordobae ]\n",
      "In the 11 run , the cluster 1 : Family label is [ Hylidae ], Genus label is[ Hypsiboas ],Species label is[ HypsiboasCinerascens ]\n",
      "In the 11 run , the cluster 2 : Family label is [ Leptodactylidae ], Genus label is[ Adenomera ],Species label is[ AdenomeraHylaedactylus ]\n",
      "In the 11 run , the cluster 3 : Family label is [ Hylidae ], Genus label is[ Hypsiboas ],Species label is[ HypsiboasCordobae ]\n",
      "In the 11 run , the cluster 4 : Family label is [ Dendrobatidae ], Genus label is[ Ameerega ],Species label is[ Ameeregatrivittata ]\n",
      "In the 12 run , the cluster 1 : Family label is [ Leptodactylidae ], Genus label is[ Adenomera ],Species label is[ AdenomeraHylaedactylus ]\n",
      "In the 12 run , the cluster 2 : Family label is [ Hylidae ], Genus label is[ Hypsiboas ],Species label is[ HypsiboasCinerascens ]\n",
      "In the 12 run , the cluster 3 : Family label is [ Dendrobatidae ], Genus label is[ Ameerega ],Species label is[ Ameeregatrivittata ]\n",
      "In the 12 run , the cluster 4 : Family label is [ Hylidae ], Genus label is[ Hypsiboas ],Species label is[ HypsiboasCordobae ]\n",
      "In the 13 run , the cluster 1 : Family label is [ Hylidae ], Genus label is[ Hypsiboas ],Species label is[ HypsiboasCinerascens ]\n",
      "In the 13 run , the cluster 2 : Family label is [ Leptodactylidae ], Genus label is[ Adenomera ],Species label is[ AdenomeraHylaedactylus ]\n",
      "In the 13 run , the cluster 3 : Family label is [ Hylidae ], Genus label is[ Hypsiboas ],Species label is[ HypsiboasCordobae ]\n",
      "In the 13 run , the cluster 4 : Family label is [ Dendrobatidae ], Genus label is[ Ameerega ],Species label is[ Ameeregatrivittata ]\n",
      "In the 14 run , the cluster 1 : Family label is [ Leptodactylidae ], Genus label is[ Adenomera ],Species label is[ AdenomeraAndre ]\n",
      "In the 14 run , the cluster 2 : Family label is [ Leptodactylidae ], Genus label is[ Adenomera ],Species label is[ AdenomeraHylaedactylus ]\n",
      "In the 14 run , the cluster 3 : Family label is [ Hylidae ], Genus label is[ Hypsiboas ],Species label is[ HypsiboasCordobae ]\n",
      "In the 14 run , the cluster 4 : Family label is [ Hylidae ], Genus label is[ Hypsiboas ],Species label is[ HypsiboasCordobae ]\n",
      "In the 15 run , the cluster 1 : Family label is [ Hylidae ], Genus label is[ Hypsiboas ],Species label is[ HypsiboasCinerascens ]\n",
      "In the 15 run , the cluster 2 : Family label is [ Hylidae ], Genus label is[ Hypsiboas ],Species label is[ HypsiboasCordobae ]\n",
      "In the 15 run , the cluster 3 : Family label is [ Leptodactylidae ], Genus label is[ Adenomera ],Species label is[ AdenomeraHylaedactylus ]\n",
      "In the 15 run , the cluster 4 : Family label is [ Dendrobatidae ], Genus label is[ Ameerega ],Species label is[ Ameeregatrivittata ]\n",
      "In the 16 run , the cluster 1 : Family label is [ Leptodactylidae ], Genus label is[ Adenomera ],Species label is[ AdenomeraHylaedactylus ]\n",
      "In the 16 run , the cluster 2 : Family label is [ Hylidae ], Genus label is[ Hypsiboas ],Species label is[ HypsiboasCordobae ]\n",
      "In the 16 run , the cluster 3 : Family label is [ Dendrobatidae ], Genus label is[ Ameerega ],Species label is[ Ameeregatrivittata ]\n",
      "In the 16 run , the cluster 4 : Family label is [ Hylidae ], Genus label is[ Hypsiboas ],Species label is[ HypsiboasCinerascens ]\n",
      "In the 17 run , the cluster 1 : Family label is [ Leptodactylidae ], Genus label is[ Adenomera ],Species label is[ AdenomeraHylaedactylus ]\n",
      "In the 17 run , the cluster 2 : Family label is [ Hylidae ], Genus label is[ Hypsiboas ],Species label is[ HypsiboasCinerascens ]\n",
      "In the 17 run , the cluster 3 : Family label is [ Hylidae ], Genus label is[ Hypsiboas ],Species label is[ HypsiboasCordobae ]\n",
      "In the 17 run , the cluster 4 : Family label is [ Dendrobatidae ], Genus label is[ Ameerega ],Species label is[ Ameeregatrivittata ]\n",
      "In the 18 run , the cluster 1 : Family label is [ Leptodactylidae ], Genus label is[ Adenomera ],Species label is[ AdenomeraHylaedactylus ]\n",
      "In the 18 run , the cluster 2 : Family label is [ Hylidae ], Genus label is[ Hypsiboas ],Species label is[ HypsiboasCinerascens ]\n",
      "In the 18 run , the cluster 3 : Family label is [ Dendrobatidae ], Genus label is[ Ameerega ],Species label is[ Ameeregatrivittata ]\n"
     ]
    },
    {
     "name": "stdout",
     "output_type": "stream",
     "text": [
      "In the 18 run , the cluster 4 : Family label is [ Hylidae ], Genus label is[ Hypsiboas ],Species label is[ HypsiboasCordobae ]\n",
      "In the 19 run , the cluster 1 : Family label is [ Hylidae ], Genus label is[ Hypsiboas ],Species label is[ HypsiboasCinerascens ]\n",
      "In the 19 run , the cluster 2 : Family label is [ Leptodactylidae ], Genus label is[ Adenomera ],Species label is[ AdenomeraHylaedactylus ]\n",
      "In the 19 run , the cluster 3 : Family label is [ Dendrobatidae ], Genus label is[ Ameerega ],Species label is[ Ameeregatrivittata ]\n",
      "In the 19 run , the cluster 4 : Family label is [ Hylidae ], Genus label is[ Hypsiboas ],Species label is[ HypsiboasCordobae ]\n",
      "In the 20 run , the cluster 1 : Family label is [ Hylidae ], Genus label is[ Hypsiboas ],Species label is[ HypsiboasCordobae ]\n",
      "In the 20 run , the cluster 2 : Family label is [ Hylidae ], Genus label is[ Hypsiboas ],Species label is[ HypsiboasCinerascens ]\n",
      "In the 20 run , the cluster 3 : Family label is [ Leptodactylidae ], Genus label is[ Adenomera ],Species label is[ AdenomeraHylaedactylus ]\n",
      "In the 20 run , the cluster 4 : Family label is [ Dendrobatidae ], Genus label is[ Ameerega ],Species label is[ Ameeregatrivittata ]\n",
      "In the 21 run , the cluster 1 : Family label is [ Leptodactylidae ], Genus label is[ Adenomera ],Species label is[ AdenomeraHylaedactylus ]\n",
      "In the 21 run , the cluster 2 : Family label is [ Hylidae ], Genus label is[ Hypsiboas ],Species label is[ HypsiboasCordobae ]\n",
      "In the 21 run , the cluster 3 : Family label is [ Dendrobatidae ], Genus label is[ Ameerega ],Species label is[ Ameeregatrivittata ]\n",
      "In the 21 run , the cluster 4 : Family label is [ Hylidae ], Genus label is[ Hypsiboas ],Species label is[ HypsiboasCinerascens ]\n",
      "In the 22 run , the cluster 1 : Family label is [ Dendrobatidae ], Genus label is[ Ameerega ],Species label is[ Ameeregatrivittata ]\n",
      "In the 22 run , the cluster 2 : Family label is [ Hylidae ], Genus label is[ Hypsiboas ],Species label is[ HypsiboasCordobae ]\n",
      "In the 22 run , the cluster 3 : Family label is [ Leptodactylidae ], Genus label is[ Adenomera ],Species label is[ AdenomeraHylaedactylus ]\n",
      "In the 22 run , the cluster 4 : Family label is [ Hylidae ], Genus label is[ Hypsiboas ],Species label is[ HypsiboasCinerascens ]\n",
      "In the 23 run , the cluster 1 : Family label is [ Leptodactylidae ], Genus label is[ Adenomera ],Species label is[ AdenomeraHylaedactylus ]\n",
      "In the 23 run , the cluster 2 : Family label is [ Hylidae ], Genus label is[ Hypsiboas ],Species label is[ HypsiboasCordobae ]\n",
      "In the 23 run , the cluster 3 : Family label is [ Hylidae ], Genus label is[ Hypsiboas ],Species label is[ HypsiboasCinerascens ]\n",
      "In the 23 run , the cluster 4 : Family label is [ Dendrobatidae ], Genus label is[ Ameerega ],Species label is[ Ameeregatrivittata ]\n",
      "In the 24 run , the cluster 1 : Family label is [ Hylidae ], Genus label is[ Hypsiboas ],Species label is[ HypsiboasCordobae ]\n",
      "In the 24 run , the cluster 2 : Family label is [ Leptodactylidae ], Genus label is[ Adenomera ],Species label is[ AdenomeraHylaedactylus ]\n",
      "In the 24 run , the cluster 3 : Family label is [ Leptodactylidae ], Genus label is[ Adenomera ],Species label is[ AdenomeraAndre ]\n",
      "In the 24 run , the cluster 4 : Family label is [ Hylidae ], Genus label is[ Hypsiboas ],Species label is[ HypsiboasCordobae ]\n",
      "In the 25 run , the cluster 1 : Family label is [ Hylidae ], Genus label is[ Hypsiboas ],Species label is[ HypsiboasCordobae ]\n",
      "In the 25 run , the cluster 2 : Family label is [ Leptodactylidae ], Genus label is[ Adenomera ],Species label is[ AdenomeraHylaedactylus ]\n",
      "In the 25 run , the cluster 3 : Family label is [ Hylidae ], Genus label is[ Hypsiboas ],Species label is[ HypsiboasCinerascens ]\n",
      "In the 25 run , the cluster 4 : Family label is [ Dendrobatidae ], Genus label is[ Ameerega ],Species label is[ Ameeregatrivittata ]\n",
      "In the 26 run , the cluster 1 : Family label is [ Leptodactylidae ], Genus label is[ Adenomera ],Species label is[ AdenomeraHylaedactylus ]\n",
      "In the 26 run , the cluster 2 : Family label is [ Hylidae ], Genus label is[ Hypsiboas ],Species label is[ HypsiboasCordobae ]\n",
      "In the 26 run , the cluster 3 : Family label is [ Dendrobatidae ], Genus label is[ Ameerega ],Species label is[ Ameeregatrivittata ]\n",
      "In the 26 run , the cluster 4 : Family label is [ Hylidae ], Genus label is[ Hypsiboas ],Species label is[ HypsiboasCinerascens ]\n",
      "In the 27 run , the cluster 1 : Family label is [ Dendrobatidae ], Genus label is[ Ameerega ],Species label is[ Ameeregatrivittata ]\n",
      "In the 27 run , the cluster 2 : Family label is [ Leptodactylidae ], Genus label is[ Adenomera ],Species label is[ AdenomeraHylaedactylus ]\n",
      "In the 27 run , the cluster 3 : Family label is [ Hylidae ], Genus label is[ Hypsiboas ],Species label is[ HypsiboasCinerascens ]\n",
      "In the 27 run , the cluster 4 : Family label is [ Hylidae ], Genus label is[ Hypsiboas ],Species label is[ HypsiboasCordobae ]\n",
      "In the 28 run , the cluster 1 : Family label is [ Hylidae ], Genus label is[ Hypsiboas ],Species label is[ HypsiboasCinerascens ]\n",
      "In the 28 run , the cluster 2 : Family label is [ Leptodactylidae ], Genus label is[ Adenomera ],Species label is[ AdenomeraHylaedactylus ]\n",
      "In the 28 run , the cluster 3 : Family label is [ Dendrobatidae ], Genus label is[ Ameerega ],Species label is[ Ameeregatrivittata ]\n",
      "In the 28 run , the cluster 4 : Family label is [ Hylidae ], Genus label is[ Hypsiboas ],Species label is[ HypsiboasCordobae ]\n",
      "In the 29 run , the cluster 1 : Family label is [ Hylidae ], Genus label is[ Hypsiboas ],Species label is[ HypsiboasCordobae ]\n",
      "In the 29 run , the cluster 2 : Family label is [ Leptodactylidae ], Genus label is[ Adenomera ],Species label is[ AdenomeraHylaedactylus ]\n",
      "In the 29 run , the cluster 3 : Family label is [ Dendrobatidae ], Genus label is[ Ameerega ],Species label is[ Ameeregatrivittata ]\n",
      "In the 29 run , the cluster 4 : Family label is [ Hylidae ], Genus label is[ Hypsiboas ],Species label is[ HypsiboasCinerascens ]\n",
      "In the 30 run , the cluster 1 : Family label is [ Dendrobatidae ], Genus label is[ Ameerega ],Species label is[ Ameeregatrivittata ]\n",
      "In the 30 run , the cluster 2 : Family label is [ Leptodactylidae ], Genus label is[ Adenomera ],Species label is[ AdenomeraHylaedactylus ]\n",
      "In the 30 run , the cluster 3 : Family label is [ Hylidae ], Genus label is[ Hypsiboas ],Species label is[ HypsiboasCordobae ]\n",
      "In the 30 run , the cluster 4 : Family label is [ Hylidae ], Genus label is[ Hypsiboas ],Species label is[ HypsiboasCinerascens ]\n",
      "In the 31 run , the cluster 1 : Family label is [ Leptodactylidae ], Genus label is[ Adenomera ],Species label is[ AdenomeraHylaedactylus ]\n",
      "In the 31 run , the cluster 2 : Family label is [ Dendrobatidae ], Genus label is[ Ameerega ],Species label is[ Ameeregatrivittata ]\n",
      "In the 31 run , the cluster 3 : Family label is [ Hylidae ], Genus label is[ Hypsiboas ],Species label is[ HypsiboasCinerascens ]\n",
      "In the 31 run , the cluster 4 : Family label is [ Hylidae ], Genus label is[ Hypsiboas ],Species label is[ HypsiboasCordobae ]\n",
      "In the 32 run , the cluster 1 : Family label is [ Hylidae ], Genus label is[ Hypsiboas ],Species label is[ HypsiboasCinerascens ]\n",
      "In the 32 run , the cluster 2 : Family label is [ Leptodactylidae ], Genus label is[ Adenomera ],Species label is[ AdenomeraHylaedactylus ]\n",
      "In the 32 run , the cluster 3 : Family label is [ Hylidae ], Genus label is[ Hypsiboas ],Species label is[ HypsiboasCordobae ]\n",
      "In the 32 run , the cluster 4 : Family label is [ Dendrobatidae ], Genus label is[ Ameerega ],Species label is[ Ameeregatrivittata ]\n",
      "In the 33 run , the cluster 1 : Family label is [ Dendrobatidae ], Genus label is[ Ameerega ],Species label is[ Ameeregatrivittata ]\n",
      "In the 33 run , the cluster 2 : Family label is [ Hylidae ], Genus label is[ Hypsiboas ],Species label is[ HypsiboasCinerascens ]\n",
      "In the 33 run , the cluster 3 : Family label is [ Hylidae ], Genus label is[ Hypsiboas ],Species label is[ HypsiboasCordobae ]\n",
      "In the 33 run , the cluster 4 : Family label is [ Leptodactylidae ], Genus label is[ Adenomera ],Species label is[ AdenomeraHylaedactylus ]\n",
      "In the 34 run , the cluster 1 : Family label is [ Leptodactylidae ], Genus label is[ Adenomera ],Species label is[ AdenomeraHylaedactylus ]\n",
      "In the 34 run , the cluster 2 : Family label is [ Hylidae ], Genus label is[ Hypsiboas ],Species label is[ HypsiboasCinerascens ]\n",
      "In the 34 run , the cluster 3 : Family label is [ Dendrobatidae ], Genus label is[ Ameerega ],Species label is[ Ameeregatrivittata ]\n",
      "In the 34 run , the cluster 4 : Family label is [ Hylidae ], Genus label is[ Hypsiboas ],Species label is[ HypsiboasCordobae ]\n",
      "In the 35 run , the cluster 1 : Family label is [ Hylidae ], Genus label is[ Hypsiboas ],Species label is[ HypsiboasCordobae ]\n",
      "In the 35 run , the cluster 2 : Family label is [ Leptodactylidae ], Genus label is[ Adenomera ],Species label is[ AdenomeraHylaedactylus ]\n",
      "In the 35 run , the cluster 3 : Family label is [ Hylidae ], Genus label is[ Hypsiboas ],Species label is[ HypsiboasCordobae ]\n",
      "In the 35 run , the cluster 4 : Family label is [ Leptodactylidae ], Genus label is[ Adenomera ],Species label is[ AdenomeraAndre ]\n",
      "In the 36 run , the cluster 1 : Family label is [ Dendrobatidae ], Genus label is[ Ameerega ],Species label is[ Ameeregatrivittata ]\n"
     ]
    },
    {
     "name": "stdout",
     "output_type": "stream",
     "text": [
      "In the 36 run , the cluster 2 : Family label is [ Leptodactylidae ], Genus label is[ Adenomera ],Species label is[ AdenomeraHylaedactylus ]\n",
      "In the 36 run , the cluster 3 : Family label is [ Hylidae ], Genus label is[ Hypsiboas ],Species label is[ HypsiboasCinerascens ]\n",
      "In the 36 run , the cluster 4 : Family label is [ Hylidae ], Genus label is[ Hypsiboas ],Species label is[ HypsiboasCordobae ]\n",
      "In the 37 run , the cluster 1 : Family label is [ Leptodactylidae ], Genus label is[ Adenomera ],Species label is[ AdenomeraHylaedactylus ]\n",
      "In the 37 run , the cluster 2 : Family label is [ Hylidae ], Genus label is[ Hypsiboas ],Species label is[ HypsiboasCordobae ]\n",
      "In the 37 run , the cluster 3 : Family label is [ Hylidae ], Genus label is[ Hypsiboas ],Species label is[ HypsiboasCinerascens ]\n",
      "In the 37 run , the cluster 4 : Family label is [ Dendrobatidae ], Genus label is[ Ameerega ],Species label is[ Ameeregatrivittata ]\n",
      "In the 38 run , the cluster 1 : Family label is [ Dendrobatidae ], Genus label is[ Ameerega ],Species label is[ Ameeregatrivittata ]\n",
      "In the 38 run , the cluster 2 : Family label is [ Hylidae ], Genus label is[ Hypsiboas ],Species label is[ HypsiboasCinerascens ]\n",
      "In the 38 run , the cluster 3 : Family label is [ Leptodactylidae ], Genus label is[ Adenomera ],Species label is[ AdenomeraHylaedactylus ]\n",
      "In the 38 run , the cluster 4 : Family label is [ Hylidae ], Genus label is[ Hypsiboas ],Species label is[ HypsiboasCordobae ]\n",
      "In the 39 run , the cluster 1 : Family label is [ Hylidae ], Genus label is[ Hypsiboas ],Species label is[ HypsiboasCordobae ]\n",
      "In the 39 run , the cluster 2 : Family label is [ Leptodactylidae ], Genus label is[ Adenomera ],Species label is[ AdenomeraHylaedactylus ]\n",
      "In the 39 run , the cluster 3 : Family label is [ Hylidae ], Genus label is[ Hypsiboas ],Species label is[ HypsiboasCinerascens ]\n",
      "In the 39 run , the cluster 4 : Family label is [ Dendrobatidae ], Genus label is[ Ameerega ],Species label is[ Ameeregatrivittata ]\n",
      "In the 40 run , the cluster 1 : Family label is [ Hylidae ], Genus label is[ Hypsiboas ],Species label is[ HypsiboasCordobae ]\n",
      "In the 40 run , the cluster 2 : Family label is [ Hylidae ], Genus label is[ Hypsiboas ],Species label is[ HypsiboasCordobae ]\n",
      "In the 40 run , the cluster 3 : Family label is [ Leptodactylidae ], Genus label is[ Adenomera ],Species label is[ AdenomeraHylaedactylus ]\n",
      "In the 40 run , the cluster 4 : Family label is [ Leptodactylidae ], Genus label is[ Adenomera ],Species label is[ AdenomeraAndre ]\n",
      "In the 41 run , the cluster 1 : Family label is [ Hylidae ], Genus label is[ Hypsiboas ],Species label is[ HypsiboasCordobae ]\n",
      "In the 41 run , the cluster 2 : Family label is [ Leptodactylidae ], Genus label is[ Adenomera ],Species label is[ AdenomeraHylaedactylus ]\n",
      "In the 41 run , the cluster 3 : Family label is [ Hylidae ], Genus label is[ Hypsiboas ],Species label is[ HypsiboasCinerascens ]\n",
      "In the 41 run , the cluster 4 : Family label is [ Dendrobatidae ], Genus label is[ Ameerega ],Species label is[ Ameeregatrivittata ]\n",
      "In the 42 run , the cluster 1 : Family label is [ Hylidae ], Genus label is[ Hypsiboas ],Species label is[ HypsiboasCinerascens ]\n",
      "In the 42 run , the cluster 2 : Family label is [ Leptodactylidae ], Genus label is[ Adenomera ],Species label is[ AdenomeraHylaedactylus ]\n",
      "In the 42 run , the cluster 3 : Family label is [ Dendrobatidae ], Genus label is[ Ameerega ],Species label is[ Ameeregatrivittata ]\n",
      "In the 42 run , the cluster 4 : Family label is [ Hylidae ], Genus label is[ Hypsiboas ],Species label is[ HypsiboasCordobae ]\n",
      "In the 43 run , the cluster 1 : Family label is [ Leptodactylidae ], Genus label is[ Adenomera ],Species label is[ AdenomeraHylaedactylus ]\n",
      "In the 43 run , the cluster 2 : Family label is [ Hylidae ], Genus label is[ Hypsiboas ],Species label is[ HypsiboasCordobae ]\n",
      "In the 43 run , the cluster 3 : Family label is [ Dendrobatidae ], Genus label is[ Ameerega ],Species label is[ Ameeregatrivittata ]\n",
      "In the 43 run , the cluster 4 : Family label is [ Hylidae ], Genus label is[ Hypsiboas ],Species label is[ HypsiboasCinerascens ]\n",
      "In the 44 run , the cluster 1 : Family label is [ Dendrobatidae ], Genus label is[ Ameerega ],Species label is[ Ameeregatrivittata ]\n",
      "In the 44 run , the cluster 2 : Family label is [ Leptodactylidae ], Genus label is[ Adenomera ],Species label is[ AdenomeraHylaedactylus ]\n",
      "In the 44 run , the cluster 3 : Family label is [ Hylidae ], Genus label is[ Hypsiboas ],Species label is[ HypsiboasCinerascens ]\n",
      "In the 44 run , the cluster 4 : Family label is [ Hylidae ], Genus label is[ Hypsiboas ],Species label is[ HypsiboasCordobae ]\n",
      "In the 45 run , the cluster 1 : Family label is [ Dendrobatidae ], Genus label is[ Ameerega ],Species label is[ Ameeregatrivittata ]\n",
      "In the 45 run , the cluster 2 : Family label is [ Leptodactylidae ], Genus label is[ Adenomera ],Species label is[ AdenomeraHylaedactylus ]\n",
      "In the 45 run , the cluster 3 : Family label is [ Hylidae ], Genus label is[ Hypsiboas ],Species label is[ HypsiboasCinerascens ]\n",
      "In the 45 run , the cluster 4 : Family label is [ Hylidae ], Genus label is[ Hypsiboas ],Species label is[ HypsiboasCordobae ]\n",
      "In the 46 run , the cluster 1 : Family label is [ Leptodactylidae ], Genus label is[ Adenomera ],Species label is[ AdenomeraHylaedactylus ]\n",
      "In the 46 run , the cluster 2 : Family label is [ Dendrobatidae ], Genus label is[ Ameerega ],Species label is[ Ameeregatrivittata ]\n",
      "In the 46 run , the cluster 3 : Family label is [ Hylidae ], Genus label is[ Hypsiboas ],Species label is[ HypsiboasCordobae ]\n",
      "In the 46 run , the cluster 4 : Family label is [ Hylidae ], Genus label is[ Hypsiboas ],Species label is[ HypsiboasCinerascens ]\n",
      "In the 47 run , the cluster 1 : Family label is [ Leptodactylidae ], Genus label is[ Adenomera ],Species label is[ AdenomeraHylaedactylus ]\n",
      "In the 47 run , the cluster 2 : Family label is [ Hylidae ], Genus label is[ Hypsiboas ],Species label is[ HypsiboasCordobae ]\n",
      "In the 47 run , the cluster 3 : Family label is [ Dendrobatidae ], Genus label is[ Ameerega ],Species label is[ Ameeregatrivittata ]\n",
      "In the 47 run , the cluster 4 : Family label is [ Hylidae ], Genus label is[ Hypsiboas ],Species label is[ HypsiboasCinerascens ]\n",
      "In the 48 run , the cluster 1 : Family label is [ Dendrobatidae ], Genus label is[ Ameerega ],Species label is[ Ameeregatrivittata ]\n",
      "In the 48 run , the cluster 2 : Family label is [ Leptodactylidae ], Genus label is[ Adenomera ],Species label is[ AdenomeraHylaedactylus ]\n",
      "In the 48 run , the cluster 3 : Family label is [ Hylidae ], Genus label is[ Hypsiboas ],Species label is[ HypsiboasCinerascens ]\n",
      "In the 48 run , the cluster 4 : Family label is [ Hylidae ], Genus label is[ Hypsiboas ],Species label is[ HypsiboasCordobae ]\n",
      "In the 49 run , the cluster 1 : Family label is [ Hylidae ], Genus label is[ Hypsiboas ],Species label is[ HypsiboasCinerascens ]\n",
      "In the 49 run , the cluster 2 : Family label is [ Dendrobatidae ], Genus label is[ Ameerega ],Species label is[ Ameeregatrivittata ]\n",
      "In the 49 run , the cluster 3 : Family label is [ Hylidae ], Genus label is[ Hypsiboas ],Species label is[ HypsiboasCordobae ]\n",
      "In the 49 run , the cluster 4 : Family label is [ Leptodactylidae ], Genus label is[ Adenomera ],Species label is[ AdenomeraHylaedactylus ]\n",
      "In the 50 run , the cluster 1 : Family label is [ Dendrobatidae ], Genus label is[ Ameerega ],Species label is[ Ameeregatrivittata ]\n",
      "In the 50 run , the cluster 2 : Family label is [ Leptodactylidae ], Genus label is[ Adenomera ],Species label is[ AdenomeraHylaedactylus ]\n",
      "In the 50 run , the cluster 3 : Family label is [ Hylidae ], Genus label is[ Hypsiboas ],Species label is[ HypsiboasCinerascens ]\n",
      "In the 50 run , the cluster 4 : Family label is [ Hylidae ], Genus label is[ Hypsiboas ],Species label is[ HypsiboasCordobae ]\n"
     ]
    }
   ],
   "source": [
    "data_y = data[['Family','Genus','Species']]\n",
    "for i in range(1,51):\n",
    "    c_label = []\n",
    "    best_k = k_dict[i]\n",
    "    k_label = label_dict[i]\n",
    "    for a in range(0,best_k): \n",
    "        family = {}\n",
    "        genus = {}\n",
    "        species = {}\n",
    "        for b in range(0, len(data_y)):\n",
    "            if k_label[b] == a :\n",
    "                family_kind = data_y['Family'][b]\n",
    "                if family_kind in family.keys():\n",
    "                    family[family_kind] = family[family_kind] + 1\n",
    "                else:\n",
    "                    family[family_kind] = 1\n",
    "                genus_kind = data_y['Genus'][b]\n",
    "                if genus_kind in genus.keys():\n",
    "                    genus[genus_kind] = genus[genus_kind] + 1\n",
    "                else:\n",
    "                    genus[genus_kind] = 1\n",
    "                species_kind = data_y['Species'][b]\n",
    "                if species_kind in species.keys():\n",
    "                    species[species_kind] = species[species_kind] + 1\n",
    "                else:\n",
    "                    species[species_kind] = 1            \n",
    "        fam = max(family, key = family.get)\n",
    "        gen = max(genus, key = genus.get)\n",
    "        spe = max(species, key = species.get)\n",
    "        new_label = {}\n",
    "        new_label['Family'] = fam\n",
    "        new_label['Genus'] = gen\n",
    "        new_label['Species'] = spe\n",
    "        c_label.append(new_label)\n",
    "        print('In the',i,'run', ', the cluster',a+1,': Family label is [',fam,'], Genus label is[',gen,'],Species label is[',spe,']')     "
   ]
  },
  {
   "cell_type": "markdown",
   "id": "b50a3469",
   "metadata": {},
   "source": [
    "(c)\n",
    "Now for each cluster you have a majority label triplet (family, genus, species).\n",
    "Calculate the average Hamming distance, Hamming score, and Hamming loss\n",
    "5\n",
    "between the true labels and the labels assigned by clusters."
   ]
  },
  {
   "cell_type": "code",
   "execution_count": 28,
   "id": "984f45fb",
   "metadata": {},
   "outputs": [],
   "source": [
    "avg_ham_loss = []\n",
    "avg_ham_sco = []\n",
    "avg_ham_dis = []\n",
    "for i in range(1,51):\n",
    "    cluster_label = label_dict[i]\n",
    "    pre_fam = []\n",
    "    pre_gen = []\n",
    "    pre_spe = []\n",
    "    for j in range(0,len(data_x)):\n",
    "        label_name = cluster_label[j]\n",
    "        label = c_label[label_name]\n",
    "        pre_fam.append(label['Family'])\n",
    "        pre_gen.append(label['Genus'])\n",
    "        pre_spe.append(label['Species'])\n",
    "        \n",
    "    true_fam = data_y['Family']\n",
    "    true_gen = data_y['Genus']\n",
    "    true_spe = data_y['Species']\n",
    "    \n",
    "    ham_los_fam = hamming_loss(pre_fam, true_fam)\n",
    "    ham_sco_fam = 1 - ham_los_fam\n",
    "    ham_dis_fam = len(data_x) - ((pre_fam == true_fam).sum())\n",
    "    \n",
    "    ham_los_gen = hamming_loss(pre_gen, true_gen)\n",
    "    ham_sco_gen = 1 - ham_los_gen\n",
    "    ham_dis_gen = len(data_x) - ((pre_gen == true_gen).sum())\n",
    "    \n",
    "    ham_los_spe = hamming_loss(pre_spe, true_spe)\n",
    "    ham_sco_spe = 1 - ham_los_spe\n",
    "    ham_dis_spe = len(data_x) - ((pre_spe == true_spe).sum())\n",
    "    \n",
    "    avg_loss = (ham_los_fam + ham_los_gen + ham_los_spe)/3\n",
    "    avg_sco = (ham_sco_spe + ham_sco_gen + ham_sco_fam)/3\n",
    "    avg_dis = (ham_dis_fam + ham_dis_gen + ham_dis_spe)/3\n",
    "    \n",
    "    avg_ham_loss.append(avg_loss)\n",
    "    avg_ham_sco.append(avg_sco)\n",
    "    avg_ham_dis.append(avg_dis)\n",
    "      "
   ]
  },
  {
   "cell_type": "code",
   "execution_count": 29,
   "id": "4822d934",
   "metadata": {},
   "outputs": [
    {
     "data": {
      "text/html": [
       "<div>\n",
       "<style scoped>\n",
       "    .dataframe tbody tr th:only-of-type {\n",
       "        vertical-align: middle;\n",
       "    }\n",
       "\n",
       "    .dataframe tbody tr th {\n",
       "        vertical-align: top;\n",
       "    }\n",
       "\n",
       "    .dataframe thead th {\n",
       "        text-align: right;\n",
       "    }\n",
       "</style>\n",
       "<table border=\"1\" class=\"dataframe\">\n",
       "  <thead>\n",
       "    <tr style=\"text-align: right;\">\n",
       "      <th></th>\n",
       "      <th>Average Hamming Distance</th>\n",
       "      <th>Average Hamming Score</th>\n",
       "      <th>Average Hamming Loss</th>\n",
       "    </tr>\n",
       "  </thead>\n",
       "  <tbody>\n",
       "    <tr>\n",
       "      <th>0</th>\n",
       "      <td>6376.000000</td>\n",
       "      <td>0.113829</td>\n",
       "      <td>0.886171</td>\n",
       "    </tr>\n",
       "    <tr>\n",
       "      <th>1</th>\n",
       "      <td>6374.000000</td>\n",
       "      <td>0.114107</td>\n",
       "      <td>0.885893</td>\n",
       "    </tr>\n",
       "    <tr>\n",
       "      <th>2</th>\n",
       "      <td>6374.000000</td>\n",
       "      <td>0.114107</td>\n",
       "      <td>0.885893</td>\n",
       "    </tr>\n",
       "    <tr>\n",
       "      <th>3</th>\n",
       "      <td>2305.000000</td>\n",
       "      <td>0.679639</td>\n",
       "      <td>0.320361</td>\n",
       "    </tr>\n",
       "    <tr>\n",
       "      <th>4</th>\n",
       "      <td>2551.666667</td>\n",
       "      <td>0.645356</td>\n",
       "      <td>0.354644</td>\n",
       "    </tr>\n",
       "    <tr>\n",
       "      <th>5</th>\n",
       "      <td>3081.666667</td>\n",
       "      <td>0.571693</td>\n",
       "      <td>0.428307</td>\n",
       "    </tr>\n",
       "    <tr>\n",
       "      <th>6</th>\n",
       "      <td>2884.000000</td>\n",
       "      <td>0.599166</td>\n",
       "      <td>0.400834</td>\n",
       "    </tr>\n",
       "    <tr>\n",
       "      <th>7</th>\n",
       "      <td>6337.000000</td>\n",
       "      <td>0.119249</td>\n",
       "      <td>0.880751</td>\n",
       "    </tr>\n",
       "    <tr>\n",
       "      <th>8</th>\n",
       "      <td>6336.000000</td>\n",
       "      <td>0.119388</td>\n",
       "      <td>0.880612</td>\n",
       "    </tr>\n",
       "    <tr>\n",
       "      <th>9</th>\n",
       "      <td>6004.666667</td>\n",
       "      <td>0.165439</td>\n",
       "      <td>0.834561</td>\n",
       "    </tr>\n",
       "    <tr>\n",
       "      <th>10</th>\n",
       "      <td>2884.000000</td>\n",
       "      <td>0.599166</td>\n",
       "      <td>0.400834</td>\n",
       "    </tr>\n",
       "    <tr>\n",
       "      <th>11</th>\n",
       "      <td>6004.666667</td>\n",
       "      <td>0.165439</td>\n",
       "      <td>0.834561</td>\n",
       "    </tr>\n",
       "    <tr>\n",
       "      <th>12</th>\n",
       "      <td>2884.000000</td>\n",
       "      <td>0.599166</td>\n",
       "      <td>0.400834</td>\n",
       "    </tr>\n",
       "    <tr>\n",
       "      <th>13</th>\n",
       "      <td>2400.333333</td>\n",
       "      <td>0.666389</td>\n",
       "      <td>0.333611</td>\n",
       "    </tr>\n",
       "    <tr>\n",
       "      <th>14</th>\n",
       "      <td>6743.333333</td>\n",
       "      <td>0.062775</td>\n",
       "      <td>0.937225</td>\n",
       "    </tr>\n",
       "    <tr>\n",
       "      <th>15</th>\n",
       "      <td>6374.000000</td>\n",
       "      <td>0.114107</td>\n",
       "      <td>0.885893</td>\n",
       "    </tr>\n",
       "    <tr>\n",
       "      <th>16</th>\n",
       "      <td>6337.000000</td>\n",
       "      <td>0.119249</td>\n",
       "      <td>0.880751</td>\n",
       "    </tr>\n",
       "    <tr>\n",
       "      <th>17</th>\n",
       "      <td>6002.666667</td>\n",
       "      <td>0.165717</td>\n",
       "      <td>0.834283</td>\n",
       "    </tr>\n",
       "    <tr>\n",
       "      <th>18</th>\n",
       "      <td>2551.666667</td>\n",
       "      <td>0.645356</td>\n",
       "      <td>0.354644</td>\n",
       "    </tr>\n",
       "    <tr>\n",
       "      <th>19</th>\n",
       "      <td>7025.000000</td>\n",
       "      <td>0.023628</td>\n",
       "      <td>0.976372</td>\n",
       "    </tr>\n",
       "    <tr>\n",
       "      <th>20</th>\n",
       "      <td>6375.000000</td>\n",
       "      <td>0.113968</td>\n",
       "      <td>0.886032</td>\n",
       "    </tr>\n",
       "    <tr>\n",
       "      <th>21</th>\n",
       "      <td>5913.000000</td>\n",
       "      <td>0.178179</td>\n",
       "      <td>0.821821</td>\n",
       "    </tr>\n",
       "    <tr>\n",
       "      <th>22</th>\n",
       "      <td>6253.000000</td>\n",
       "      <td>0.130924</td>\n",
       "      <td>0.869076</td>\n",
       "    </tr>\n",
       "    <tr>\n",
       "      <th>23</th>\n",
       "      <td>2292.666667</td>\n",
       "      <td>0.681353</td>\n",
       "      <td>0.318647</td>\n",
       "    </tr>\n",
       "    <tr>\n",
       "      <th>24</th>\n",
       "      <td>3081.666667</td>\n",
       "      <td>0.571693</td>\n",
       "      <td>0.428307</td>\n",
       "    </tr>\n",
       "    <tr>\n",
       "      <th>25</th>\n",
       "      <td>6374.000000</td>\n",
       "      <td>0.114107</td>\n",
       "      <td>0.885893</td>\n",
       "    </tr>\n",
       "    <tr>\n",
       "      <th>26</th>\n",
       "      <td>1600.333333</td>\n",
       "      <td>0.777577</td>\n",
       "      <td>0.222423</td>\n",
       "    </tr>\n",
       "    <tr>\n",
       "      <th>27</th>\n",
       "      <td>2551.333333</td>\n",
       "      <td>0.645402</td>\n",
       "      <td>0.354598</td>\n",
       "    </tr>\n",
       "    <tr>\n",
       "      <th>28</th>\n",
       "      <td>3202.666667</td>\n",
       "      <td>0.554876</td>\n",
       "      <td>0.445124</td>\n",
       "    </tr>\n",
       "    <tr>\n",
       "      <th>29</th>\n",
       "      <td>2053.666667</td>\n",
       "      <td>0.714570</td>\n",
       "      <td>0.285430</td>\n",
       "    </tr>\n",
       "    <tr>\n",
       "      <th>30</th>\n",
       "      <td>5367.333333</td>\n",
       "      <td>0.254019</td>\n",
       "      <td>0.745981</td>\n",
       "    </tr>\n",
       "    <tr>\n",
       "      <th>31</th>\n",
       "      <td>2884.000000</td>\n",
       "      <td>0.599166</td>\n",
       "      <td>0.400834</td>\n",
       "    </tr>\n",
       "    <tr>\n",
       "      <th>32</th>\n",
       "      <td>5870.000000</td>\n",
       "      <td>0.184156</td>\n",
       "      <td>0.815844</td>\n",
       "    </tr>\n",
       "    <tr>\n",
       "      <th>33</th>\n",
       "      <td>6004.666667</td>\n",
       "      <td>0.165439</td>\n",
       "      <td>0.834561</td>\n",
       "    </tr>\n",
       "    <tr>\n",
       "      <th>34</th>\n",
       "      <td>3171.000000</td>\n",
       "      <td>0.559277</td>\n",
       "      <td>0.440723</td>\n",
       "    </tr>\n",
       "    <tr>\n",
       "      <th>35</th>\n",
       "      <td>1600.333333</td>\n",
       "      <td>0.777577</td>\n",
       "      <td>0.222423</td>\n",
       "    </tr>\n",
       "    <tr>\n",
       "      <th>36</th>\n",
       "      <td>6253.000000</td>\n",
       "      <td>0.130924</td>\n",
       "      <td>0.869076</td>\n",
       "    </tr>\n",
       "    <tr>\n",
       "      <th>37</th>\n",
       "      <td>5543.666667</td>\n",
       "      <td>0.229511</td>\n",
       "      <td>0.770489</td>\n",
       "    </tr>\n",
       "    <tr>\n",
       "      <th>38</th>\n",
       "      <td>3081.666667</td>\n",
       "      <td>0.571693</td>\n",
       "      <td>0.428307</td>\n",
       "    </tr>\n",
       "    <tr>\n",
       "      <th>39</th>\n",
       "      <td>6891.333333</td>\n",
       "      <td>0.042205</td>\n",
       "      <td>0.957795</td>\n",
       "    </tr>\n",
       "    <tr>\n",
       "      <th>40</th>\n",
       "      <td>3081.666667</td>\n",
       "      <td>0.571693</td>\n",
       "      <td>0.428307</td>\n",
       "    </tr>\n",
       "    <tr>\n",
       "      <th>41</th>\n",
       "      <td>2551.666667</td>\n",
       "      <td>0.645356</td>\n",
       "      <td>0.354644</td>\n",
       "    </tr>\n",
       "    <tr>\n",
       "      <th>42</th>\n",
       "      <td>6375.000000</td>\n",
       "      <td>0.113968</td>\n",
       "      <td>0.886032</td>\n",
       "    </tr>\n",
       "    <tr>\n",
       "      <th>43</th>\n",
       "      <td>1600.333333</td>\n",
       "      <td>0.777577</td>\n",
       "      <td>0.222423</td>\n",
       "    </tr>\n",
       "    <tr>\n",
       "      <th>44</th>\n",
       "      <td>1600.333333</td>\n",
       "      <td>0.777577</td>\n",
       "      <td>0.222423</td>\n",
       "    </tr>\n",
       "    <tr>\n",
       "      <th>45</th>\n",
       "      <td>5820.666667</td>\n",
       "      <td>0.191012</td>\n",
       "      <td>0.808988</td>\n",
       "    </tr>\n",
       "    <tr>\n",
       "      <th>46</th>\n",
       "      <td>6374.000000</td>\n",
       "      <td>0.114107</td>\n",
       "      <td>0.885893</td>\n",
       "    </tr>\n",
       "    <tr>\n",
       "      <th>47</th>\n",
       "      <td>1600.333333</td>\n",
       "      <td>0.777577</td>\n",
       "      <td>0.222423</td>\n",
       "    </tr>\n",
       "    <tr>\n",
       "      <th>48</th>\n",
       "      <td>6186.333333</td>\n",
       "      <td>0.140190</td>\n",
       "      <td>0.859810</td>\n",
       "    </tr>\n",
       "    <tr>\n",
       "      <th>49</th>\n",
       "      <td>1600.333333</td>\n",
       "      <td>0.777577</td>\n",
       "      <td>0.222423</td>\n",
       "    </tr>\n",
       "  </tbody>\n",
       "</table>\n",
       "</div>"
      ],
      "text/plain": [
       "    Average Hamming Distance  Average Hamming Score  Average Hamming Loss\n",
       "0                6376.000000               0.113829              0.886171\n",
       "1                6374.000000               0.114107              0.885893\n",
       "2                6374.000000               0.114107              0.885893\n",
       "3                2305.000000               0.679639              0.320361\n",
       "4                2551.666667               0.645356              0.354644\n",
       "5                3081.666667               0.571693              0.428307\n",
       "6                2884.000000               0.599166              0.400834\n",
       "7                6337.000000               0.119249              0.880751\n",
       "8                6336.000000               0.119388              0.880612\n",
       "9                6004.666667               0.165439              0.834561\n",
       "10               2884.000000               0.599166              0.400834\n",
       "11               6004.666667               0.165439              0.834561\n",
       "12               2884.000000               0.599166              0.400834\n",
       "13               2400.333333               0.666389              0.333611\n",
       "14               6743.333333               0.062775              0.937225\n",
       "15               6374.000000               0.114107              0.885893\n",
       "16               6337.000000               0.119249              0.880751\n",
       "17               6002.666667               0.165717              0.834283\n",
       "18               2551.666667               0.645356              0.354644\n",
       "19               7025.000000               0.023628              0.976372\n",
       "20               6375.000000               0.113968              0.886032\n",
       "21               5913.000000               0.178179              0.821821\n",
       "22               6253.000000               0.130924              0.869076\n",
       "23               2292.666667               0.681353              0.318647\n",
       "24               3081.666667               0.571693              0.428307\n",
       "25               6374.000000               0.114107              0.885893\n",
       "26               1600.333333               0.777577              0.222423\n",
       "27               2551.333333               0.645402              0.354598\n",
       "28               3202.666667               0.554876              0.445124\n",
       "29               2053.666667               0.714570              0.285430\n",
       "30               5367.333333               0.254019              0.745981\n",
       "31               2884.000000               0.599166              0.400834\n",
       "32               5870.000000               0.184156              0.815844\n",
       "33               6004.666667               0.165439              0.834561\n",
       "34               3171.000000               0.559277              0.440723\n",
       "35               1600.333333               0.777577              0.222423\n",
       "36               6253.000000               0.130924              0.869076\n",
       "37               5543.666667               0.229511              0.770489\n",
       "38               3081.666667               0.571693              0.428307\n",
       "39               6891.333333               0.042205              0.957795\n",
       "40               3081.666667               0.571693              0.428307\n",
       "41               2551.666667               0.645356              0.354644\n",
       "42               6375.000000               0.113968              0.886032\n",
       "43               1600.333333               0.777577              0.222423\n",
       "44               1600.333333               0.777577              0.222423\n",
       "45               5820.666667               0.191012              0.808988\n",
       "46               6374.000000               0.114107              0.885893\n",
       "47               1600.333333               0.777577              0.222423\n",
       "48               6186.333333               0.140190              0.859810\n",
       "49               1600.333333               0.777577              0.222423"
      ]
     },
     "execution_count": 29,
     "metadata": {},
     "output_type": "execute_result"
    }
   ],
   "source": [
    "tab = {'Average Hamming Distance':avg_ham_dis,'Average Hamming Score':avg_ham_sco,'Average Hamming Loss':avg_ham_loss}\n",
    "pd.DataFrame(tab)"
   ]
  },
  {
   "cell_type": "code",
   "execution_count": 30,
   "id": "258744e4",
   "metadata": {},
   "outputs": [
    {
     "data": {
      "text/html": [
       "<div>\n",
       "<style scoped>\n",
       "    .dataframe tbody tr th:only-of-type {\n",
       "        vertical-align: middle;\n",
       "    }\n",
       "\n",
       "    .dataframe tbody tr th {\n",
       "        vertical-align: top;\n",
       "    }\n",
       "\n",
       "    .dataframe thead th {\n",
       "        text-align: right;\n",
       "    }\n",
       "</style>\n",
       "<table border=\"1\" class=\"dataframe\">\n",
       "  <thead>\n",
       "    <tr style=\"text-align: right;\">\n",
       "      <th></th>\n",
       "      <th>Average of Hamming Distance</th>\n",
       "      <th>Standard Deviation of Hamming Distance</th>\n",
       "    </tr>\n",
       "  </thead>\n",
       "  <tbody>\n",
       "    <tr>\n",
       "      <th>0</th>\n",
       "      <td>4419.713333</td>\n",
       "      <td>1959.760262</td>\n",
       "    </tr>\n",
       "  </tbody>\n",
       "</table>\n",
       "</div>"
      ],
      "text/plain": [
       "   Average of Hamming Distance  Standard Deviation of Hamming Distance\n",
       "0                  4419.713333                             1959.760262"
      ]
     },
     "execution_count": 30,
     "metadata": {},
     "output_type": "execute_result"
    }
   ],
   "source": [
    "avg_50_ham_dis = statistics.mean(avg_ham_dis)\n",
    "std_50_ham_dis = statistics.stdev(avg_ham_dis)\n",
    "tab2 = {'Average of Hamming Distance':[avg_50_ham_dis],'Standard Deviation of Hamming Distance':[std_50_ham_dis]}\n",
    "pd.DataFrame(tab2)"
   ]
  },
  {
   "cell_type": "markdown",
   "id": "466acf02",
   "metadata": {},
   "source": [
    "ISLR 12.6.2"
   ]
  },
  {
   "cell_type": "markdown",
   "id": "cae9a368",
   "metadata": {},
   "source": [
    "(a)"
   ]
  },
  {
   "attachments": {
    "1.PNG": {
     "image/png": "[encoded data removed]"
    }
   },
   "cell_type": "markdown",
   "id": "89714090",
   "metadata": {},
   "source": [
    "![1.PNG](attachment:1.PNG)"
   ]
  },
  {
   "attachments": {
    "2.PNG": {
     "image/png": "[encoded data removed]"
    }
   },
   "cell_type": "markdown",
   "id": "55d87a1d",
   "metadata": {},
   "source": [
    "![2.PNG](attachment:2.PNG)"
   ]
  },
  {
   "cell_type": "markdown",
   "id": "c65929b2",
   "metadata": {},
   "source": [
    "(c)"
   ]
  },
  {
   "cell_type": "markdown",
   "id": "b97423b7",
   "metadata": {},
   "source": [
    "Observations 1 and 2 are in Cluster A\n",
    "\n",
    "Observations 3 and 4 are in Cluster B"
   ]
  },
  {
   "cell_type": "markdown",
   "id": "11c37e56",
   "metadata": {},
   "source": [
    "(d)\n",
    "\n",
    "Observations 1, 2 and 3 are in Cluster A \n",
    "\n",
    "Observations 4 is in Cluster B.\n"
   ]
  },
  {
   "attachments": {
    "1234431.PNG": {
     "image/png": "[encoded data removed]"
    }
   },
   "cell_type": "markdown",
   "id": "6c28536d",
   "metadata": {},
   "source": [
    "![1234431.PNG](attachment:1234431.PNG)"
   ]
  }
 ],
 "metadata": {
  "kernelspec": {
   "display_name": "Python 3",
   "language": "python",
   "name": "python3"
  },
  "language_info": {
   "codemirror_mode": {
    "name": "ipython",
    "version": 3
   },
   "file_extension": ".py",
   "mimetype": "text/x-python",
   "name": "python",
   "nbconvert_exporter": "python",
   "pygments_lexer": "ipython3",
   "version": "3.8.8"
  }
 },
 "nbformat": 4,
 "nbformat_minor": 5
}
