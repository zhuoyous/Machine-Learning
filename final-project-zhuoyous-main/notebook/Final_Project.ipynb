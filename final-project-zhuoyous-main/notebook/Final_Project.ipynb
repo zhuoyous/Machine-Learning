{
 "cells": [
  {
   "cell_type": "markdown",
   "id": "2fdb0fad",
   "metadata": {},
   "source": [
    "Name: Zhuoyou Shen\n",
    "\n",
    "ID: 2035073656\n",
    "\n",
    "GitHub Username: zhuoyous"
   ]
  },
  {
   "cell_type": "code",
   "execution_count": 1,
   "id": "49bebcdb",
   "metadata": {},
   "outputs": [],
   "source": [
    "import pandas as pd\n",
    "import os\n",
    "from keras.preprocessing.image import ImageDataGenerator\n",
    "import numpy as np\n",
    "import matplotlib.pyplot as plt\n",
    "from sklearn.model_selection import train_test_split\n",
    "from sklearn.metrics import f1_score,accuracy_score,precision_score,recall_score\n",
    "from tensorflow.keras.applications import EfficientNetB0\n",
    "from tensorflow.keras.applications import VGG16\n",
    "import tensorflow as tf\n",
    "from tensorflow import keras\n",
    "from tensorflow.keras.callbacks import EarlyStopping,ModelCheckpoint\n",
    "from sklearn.metrics import classification_report\n",
    "from keras.applications.vgg16 import VGG16, preprocess_input\n",
    "from keras.optimizers import Adam\n",
    "import warnings\n",
    "warnings.filterwarnings('ignore')"
   ]
  },
  {
   "cell_type": "markdown",
   "id": "71c985f1",
   "metadata": {},
   "source": [
    "### Tensorflow Version : 2.9.1"
   ]
  },
  {
   "cell_type": "code",
   "execution_count": 2,
   "id": "8d09a474",
   "metadata": {},
   "outputs": [],
   "source": [
    "#function to report Precision, Recall, and F1 score\n",
    "def metric_score(true_label,pred_label):\n",
    "    print(\"The accuracy_score is: {:.3f}\".format(accuracy_score(true_label,pred_label)))\n",
    "    print(\"The precision_score is: {:.3f}\".format(precision_score(true_label,pred_label,average=\"macro\")))\n",
    "    print(\"The recall_score is: {:.3f}\".format(recall_score(true_label,pred_label,average=\"macro\")))\n",
    "    print(\"The f1_score is: {:.3f}\".format(f1_score(true_label,pred_label,average=\"macro\")))"
   ]
  },
  {
   "cell_type": "markdown",
   "id": "6898c273",
   "metadata": {},
   "source": [
    "### Load data for EfficientNetB0"
   ]
  },
  {
   "cell_type": "code",
   "execution_count": 3,
   "id": "2c94edc1",
   "metadata": {},
   "outputs": [
    {
     "name": "stdout",
     "output_type": "stream",
     "text": [
      "Found 1176 images belonging to 20 classes.\n"
     ]
    }
   ],
   "source": [
    "train_datagen = ImageDataGenerator(\n",
    "    rotation_range=20,\n",
    "    width_shift_range=0.2,\n",
    "    height_shift_range=0.2,\n",
    "    shear_range=0.2,\n",
    "    zoom_range=0.2,\n",
    "    brightness_range=(0.3, 1),\n",
    "    horizontal_flip=True,\n",
    "    vertical_flip=True)\n",
    "train_generator = train_datagen.flow_from_directory(\n",
    "    '../data/images',\n",
    "    target_size=(224, 224),\n",
    "    batch_size=1,\n",
    "    shuffle=True,\n",
    "    class_mode='categorical')"
   ]
  },
  {
   "cell_type": "code",
   "execution_count": 4,
   "id": "214290b4",
   "metadata": {},
   "outputs": [
    {
     "data": {
      "text/plain": [
       "((1176, 224, 224, 3), (1176, 20))"
      ]
     },
     "execution_count": 4,
     "metadata": {},
     "output_type": "execute_result"
    }
   ],
   "source": [
    "all_data = np.zeros((len(train_generator),224,224,3))\n",
    "all_label = np.zeros((len(train_generator),20))\n",
    "for index in range(len(train_generator)):\n",
    "    all_data[index,:,:,:] = train_generator[index][0]\n",
    "    all_label[index,:] = train_generator[index][1]\n",
    "all_data.shape,all_label.shape"
   ]
  },
  {
   "cell_type": "code",
   "execution_count": 5,
   "id": "5d8b7867",
   "metadata": {},
   "outputs": [
    {
     "name": "stdout",
     "output_type": "stream",
     "text": [
      "The proportion of train 0.6998299319727891\n",
      "The proportion of test 0.14965986394557823\n",
      "The proportion of valid 0.15051020408163265\n"
     ]
    }
   ],
   "source": [
    "X_train, X_test, y_train, y_test = train_test_split(all_data,all_label,test_size=0.3,random_state=0)\n",
    "X_test, X_valid, y_test, y_valid = train_test_split(X_test,y_test,test_size=0.5,random_state=0,shuffle = False)\n",
    "print(\"The proportion of train\",X_train.shape[0] / len(train_generator))\n",
    "print(\"The proportion of test\",X_test.shape[0] / len(train_generator))\n",
    "print(\"The proportion of valid\",X_valid.shape[0] / len(train_generator))"
   ]
  },
  {
   "cell_type": "markdown",
   "id": "4f52fbd9",
   "metadata": {},
   "source": [
    "#### EfficientNetB0"
   ]
  },
  {
   "cell_type": "code",
   "execution_count": 6,
   "id": "91f50041",
   "metadata": {},
   "outputs": [],
   "source": [
    "# Download pre training model\n",
    "model = EfficientNetB0(weights='imagenet', include_top=False, input_shape=(224,224,3))\n",
    "\n",
    "# Freeze all layers of the pre training model\n",
    "for layer in model.layers:\n",
    "    layer.trainable = False\n",
    "\n",
    "# Add a new classifier\n",
    "x = model.output\n",
    "x = keras.layers.GlobalMaxPooling2D()(x)\n",
    "x = keras.layers.BatchNormalization()(x)\n",
    "x = keras.layers.Dense(1024, activation='relu')(x)\n",
    "x = keras.layers.Dropout(0.2)(x)\n",
    "predictions = keras.layers.Dense(20, activation='softmax')(x)\n",
    "\n",
    "# Build a complete model\n",
    "model = keras.Model(inputs=model.input, outputs=predictions)\n",
    "# Compile model\n",
    "optimizer = Adam(lr=0.001)\n",
    "model.compile(loss='categorical_crossentropy', optimizer=optimizer, metrics=['accuracy'])"
   ]
  },
  {
   "cell_type": "code",
   "execution_count": 7,
   "id": "91d946c3",
   "metadata": {},
   "outputs": [
    {
     "name": "stdout",
     "output_type": "stream",
     "text": [
      "Epoch 1/100\n",
      "165/165 [==============================] - 25s 129ms/step - loss: 2.0140 - accuracy: 0.5419 - val_loss: 1.4518 - val_accuracy: 0.7345\n",
      "Epoch 2/100\n",
      "165/165 [==============================] - 20s 124ms/step - loss: 0.7812 - accuracy: 0.7959 - val_loss: 2.2308 - val_accuracy: 0.6893\n",
      "Epoch 3/100\n",
      "165/165 [==============================] - 21s 125ms/step - loss: 0.6501 - accuracy: 0.8457 - val_loss: 1.2986 - val_accuracy: 0.7853\n",
      "Epoch 4/100\n",
      "165/165 [==============================] - 20s 124ms/step - loss: 0.5911 - accuracy: 0.8566 - val_loss: 1.9940 - val_accuracy: 0.7401\n",
      "Epoch 5/100\n",
      "165/165 [==============================] - 21s 126ms/step - loss: 0.4380 - accuracy: 0.8931 - val_loss: 1.9501 - val_accuracy: 0.7514\n",
      "Epoch 6/100\n",
      "165/165 [==============================] - 21s 127ms/step - loss: 0.4878 - accuracy: 0.8906 - val_loss: 1.8520 - val_accuracy: 0.7627\n",
      "Epoch 7/100\n",
      "165/165 [==============================] - 21s 127ms/step - loss: 0.5088 - accuracy: 0.8943 - val_loss: 2.5424 - val_accuracy: 0.7345\n",
      "Epoch 8/100\n",
      "165/165 [==============================] - 21s 128ms/step - loss: 0.5453 - accuracy: 0.8967 - val_loss: 2.9161 - val_accuracy: 0.7458\n",
      "Epoch 9/100\n",
      "165/165 [==============================] - 21s 127ms/step - loss: 0.5266 - accuracy: 0.9101 - val_loss: 1.8380 - val_accuracy: 0.7853\n",
      "Epoch 10/100\n",
      "165/165 [==============================] - 21s 127ms/step - loss: 0.4678 - accuracy: 0.9271 - val_loss: 2.4758 - val_accuracy: 0.7627\n",
      "Epoch 11/100\n",
      "165/165 [==============================] - 21s 127ms/step - loss: 0.5310 - accuracy: 0.9186 - val_loss: 2.8054 - val_accuracy: 0.7232\n",
      "Epoch 12/100\n",
      "165/165 [==============================] - 21s 128ms/step - loss: 0.4845 - accuracy: 0.9077 - val_loss: 2.9736 - val_accuracy: 0.7514\n",
      "Epoch 13/100\n",
      "165/165 [==============================] - 21s 128ms/step - loss: 0.5435 - accuracy: 0.9125 - val_loss: 2.8417 - val_accuracy: 0.7853\n",
      "Epoch 14/100\n",
      "165/165 [==============================] - 21s 128ms/step - loss: 0.5304 - accuracy: 0.9149 - val_loss: 2.7028 - val_accuracy: 0.7627\n",
      "Epoch 15/100\n",
      "165/165 [==============================] - 21s 128ms/step - loss: 0.4181 - accuracy: 0.9380 - val_loss: 2.8091 - val_accuracy: 0.8079\n",
      "Epoch 16/100\n",
      "165/165 [==============================] - 21s 129ms/step - loss: 0.4003 - accuracy: 0.9271 - val_loss: 2.9001 - val_accuracy: 0.7571\n",
      "Epoch 17/100\n",
      "165/165 [==============================] - 21s 129ms/step - loss: 0.5986 - accuracy: 0.9125 - val_loss: 2.6126 - val_accuracy: 0.7797\n",
      "Epoch 18/100\n",
      "165/165 [==============================] - 21s 129ms/step - loss: 0.4171 - accuracy: 0.9417 - val_loss: 2.7477 - val_accuracy: 0.7684\n",
      "Epoch 19/100\n",
      "165/165 [==============================] - 21s 129ms/step - loss: 0.3778 - accuracy: 0.9453 - val_loss: 3.3415 - val_accuracy: 0.7797\n",
      "Epoch 20/100\n",
      "165/165 [==============================] - 21s 130ms/step - loss: 0.4495 - accuracy: 0.9344 - val_loss: 3.6893 - val_accuracy: 0.7571\n",
      "Epoch 21/100\n",
      "165/165 [==============================] - 21s 129ms/step - loss: 0.4207 - accuracy: 0.9271 - val_loss: 3.3141 - val_accuracy: 0.7514\n",
      "Epoch 22/100\n",
      "165/165 [==============================] - 22s 133ms/step - loss: 0.3077 - accuracy: 0.9478 - val_loss: 3.6633 - val_accuracy: 0.7571\n",
      "Epoch 23/100\n",
      "165/165 [==============================] - 21s 127ms/step - loss: 0.4698 - accuracy: 0.9380 - val_loss: 4.2331 - val_accuracy: 0.7571\n",
      "Epoch 24/100\n",
      "165/165 [==============================] - 21s 127ms/step - loss: 0.3010 - accuracy: 0.9538 - val_loss: 4.6692 - val_accuracy: 0.7740\n",
      "Epoch 25/100\n",
      "165/165 [==============================] - 21s 127ms/step - loss: 0.4053 - accuracy: 0.9392 - val_loss: 4.7399 - val_accuracy: 0.7514\n",
      "Epoch 26/100\n",
      "165/165 [==============================] - 21s 128ms/step - loss: 0.5127 - accuracy: 0.9332 - val_loss: 3.9299 - val_accuracy: 0.7684\n",
      "Epoch 27/100\n",
      "165/165 [==============================] - 21s 128ms/step - loss: 0.2863 - accuracy: 0.9648 - val_loss: 4.2274 - val_accuracy: 0.7684\n",
      "Epoch 28/100\n",
      "165/165 [==============================] - 21s 128ms/step - loss: 0.5157 - accuracy: 0.9478 - val_loss: 4.6028 - val_accuracy: 0.7345\n",
      "Epoch 29/100\n",
      "165/165 [==============================] - 21s 128ms/step - loss: 0.4110 - accuracy: 0.9526 - val_loss: 3.9129 - val_accuracy: 0.7684\n",
      "Epoch 30/100\n",
      "165/165 [==============================] - 21s 127ms/step - loss: 0.4447 - accuracy: 0.9465 - val_loss: 4.2622 - val_accuracy: 0.7684\n",
      "Epoch 31/100\n",
      "165/165 [==============================] - 21s 128ms/step - loss: 0.3941 - accuracy: 0.9502 - val_loss: 4.9812 - val_accuracy: 0.7571\n",
      "Epoch 32/100\n",
      "165/165 [==============================] - 21s 128ms/step - loss: 0.2574 - accuracy: 0.9623 - val_loss: 4.2138 - val_accuracy: 0.7966\n",
      "Epoch 33/100\n",
      "165/165 [==============================] - 21s 128ms/step - loss: 0.2273 - accuracy: 0.9660 - val_loss: 4.9889 - val_accuracy: 0.7514\n",
      "Epoch 34/100\n",
      "165/165 [==============================] - 21s 128ms/step - loss: 0.3094 - accuracy: 0.9575 - val_loss: 3.7136 - val_accuracy: 0.7853\n",
      "Epoch 35/100\n",
      "165/165 [==============================] - 21s 129ms/step - loss: 0.2784 - accuracy: 0.9648 - val_loss: 4.0529 - val_accuracy: 0.7853\n",
      "Epoch 36/100\n",
      "165/165 [==============================] - 21s 129ms/step - loss: 0.2001 - accuracy: 0.9672 - val_loss: 3.4931 - val_accuracy: 0.8023\n",
      "Epoch 37/100\n",
      "165/165 [==============================] - 21s 129ms/step - loss: 0.4270 - accuracy: 0.9490 - val_loss: 3.5842 - val_accuracy: 0.8079\n",
      "Epoch 38/100\n",
      "165/165 [==============================] - 21s 129ms/step - loss: 0.3005 - accuracy: 0.9648 - val_loss: 3.5506 - val_accuracy: 0.8079\n",
      "Epoch 39/100\n",
      "165/165 [==============================] - 21s 129ms/step - loss: 0.2307 - accuracy: 0.9696 - val_loss: 4.6481 - val_accuracy: 0.8079\n",
      "Epoch 40/100\n",
      "165/165 [==============================] - 21s 129ms/step - loss: 0.2214 - accuracy: 0.9696 - val_loss: 4.2681 - val_accuracy: 0.7627\n",
      "Epoch 41/100\n",
      "165/165 [==============================] - 21s 129ms/step - loss: 0.3422 - accuracy: 0.9490 - val_loss: 4.8326 - val_accuracy: 0.7853\n",
      "Epoch 42/100\n",
      "165/165 [==============================] - 21s 129ms/step - loss: 0.3851 - accuracy: 0.9587 - val_loss: 4.8718 - val_accuracy: 0.7797\n",
      "Epoch 43/100\n",
      "165/165 [==============================] - 21s 129ms/step - loss: 0.1693 - accuracy: 0.9769 - val_loss: 4.2794 - val_accuracy: 0.7966\n",
      "Epoch 44/100\n",
      "165/165 [==============================] - 21s 129ms/step - loss: 0.0896 - accuracy: 0.9806 - val_loss: 5.0620 - val_accuracy: 0.7740\n",
      "Epoch 45/100\n",
      "165/165 [==============================] - 21s 129ms/step - loss: 0.1611 - accuracy: 0.9733 - val_loss: 4.8058 - val_accuracy: 0.7740\n",
      "Epoch 46/100\n",
      "165/165 [==============================] - 21s 129ms/step - loss: 0.2655 - accuracy: 0.9575 - val_loss: 4.8384 - val_accuracy: 0.7740\n",
      "Epoch 47/100\n",
      "165/165 [==============================] - 21s 129ms/step - loss: 0.2838 - accuracy: 0.9623 - val_loss: 4.9238 - val_accuracy: 0.7684\n",
      "Epoch 48/100\n",
      "165/165 [==============================] - 21s 129ms/step - loss: 0.2159 - accuracy: 0.9721 - val_loss: 4.4821 - val_accuracy: 0.7627\n",
      "Epoch 49/100\n",
      "165/165 [==============================] - 21s 129ms/step - loss: 0.1519 - accuracy: 0.9806 - val_loss: 5.3494 - val_accuracy: 0.7797\n",
      "Epoch 50/100\n",
      "165/165 [==============================] - 21s 129ms/step - loss: 0.3063 - accuracy: 0.9672 - val_loss: 4.3496 - val_accuracy: 0.7853\n",
      "Epoch 51/100\n",
      "165/165 [==============================] - 21s 129ms/step - loss: 0.2086 - accuracy: 0.9708 - val_loss: 4.4491 - val_accuracy: 0.8023\n",
      "Epoch 52/100\n",
      "165/165 [==============================] - 21s 129ms/step - loss: 0.1622 - accuracy: 0.9769 - val_loss: 5.0628 - val_accuracy: 0.7627\n",
      "Epoch 53/100\n",
      "165/165 [==============================] - 21s 129ms/step - loss: 0.1753 - accuracy: 0.9708 - val_loss: 4.2418 - val_accuracy: 0.7853\n"
     ]
    }
   ],
   "source": [
    "callbacks_list = [EarlyStopping(monitor='val_loss', patience=50),\n",
    "                  ModelCheckpoint(filepath='EfficientNetB0_model.h5', monitor='val_loss', save_best_only=True) ]\n",
    "\n",
    "history = model.fit(X_train, y_train, batch_size=5,\n",
    "                    epochs=100, validation_data=(X_valid, y_valid), callbacks=callbacks_list)"
   ]
  },
  {
   "cell_type": "code",
   "execution_count": 8,
   "id": "7f8fdaeb",
   "metadata": {},
   "outputs": [
    {
     "name": "stdout",
     "output_type": "stream",
     "text": [
      "6/6 [==============================] - 4s 498ms/step\n"
     ]
    }
   ],
   "source": [
    "pred_prob = model.predict(X_test)\n",
    "pred_value = pred_prob.argmax(axis=1)\n",
    "y_true = y_test.argmax(axis=1)"
   ]
  },
  {
   "cell_type": "markdown",
   "id": "0aa848e0",
   "metadata": {},
   "source": [
    "### Model Accuracy"
   ]
  },
  {
   "cell_type": "code",
   "execution_count": 9,
   "id": "fafb06a7",
   "metadata": {},
   "outputs": [
    {
     "name": "stdout",
     "output_type": "stream",
     "text": [
      "              precision    recall  f1-score   support\n",
      "\n",
      "           0       1.00      1.00      1.00         2\n",
      "           1       1.00      0.88      0.93         8\n",
      "           2       0.60      1.00      0.75         6\n",
      "           3       0.83      0.42      0.56        12\n",
      "           4       0.64      0.64      0.64        11\n",
      "           5       0.88      0.54      0.67        13\n",
      "           6       0.86      1.00      0.92         6\n",
      "           7       0.42      0.83      0.56         6\n",
      "           8       0.86      0.86      0.86         7\n",
      "           9       1.00      0.80      0.89        15\n",
      "          10       0.73      1.00      0.85        11\n",
      "          11       0.75      1.00      0.86        12\n",
      "          12       0.50      0.50      0.50         4\n",
      "          13       0.75      0.38      0.50         8\n",
      "          14       0.54      0.88      0.67         8\n",
      "          15       0.80      0.50      0.62         8\n",
      "          16       1.00      0.89      0.94         9\n",
      "          17       0.70      0.78      0.74         9\n",
      "          18       1.00      0.50      0.67        10\n",
      "          19       0.79      1.00      0.88        11\n",
      "\n",
      "    accuracy                           0.76       176\n",
      "   macro avg       0.78      0.77      0.75       176\n",
      "weighted avg       0.80      0.76      0.75       176\n",
      "\n"
     ]
    }
   ],
   "source": [
    "print(classification_report(y_true, pred_value))"
   ]
  },
  {
   "cell_type": "code",
   "execution_count": 10,
   "id": "bc921cc2",
   "metadata": {},
   "outputs": [
    {
     "name": "stdout",
     "output_type": "stream",
     "text": [
      "The accuracy_score is: 0.756\n",
      "The precision_score is: 0.782\n",
      "The recall_score is: 0.769\n",
      "The f1_score is: 0.749\n"
     ]
    }
   ],
   "source": [
    "metric_score(y_true,pred_value)"
   ]
  },
  {
   "cell_type": "markdown",
   "id": "cbf33ef8",
   "metadata": {},
   "source": [
    "### Load data for VGG16"
   ]
  },
  {
   "cell_type": "code",
   "execution_count": 11,
   "id": "cae78ee2",
   "metadata": {},
   "outputs": [
    {
     "name": "stdout",
     "output_type": "stream",
     "text": [
      "Found 1176 images belonging to 20 classes.\n"
     ]
    }
   ],
   "source": [
    "train_datagen = ImageDataGenerator(\n",
    "    rotation_range=20,\n",
    "    width_shift_range=0.2,\n",
    "    height_shift_range=0.2,\n",
    "    shear_range=0.2,\n",
    "    zoom_range=0.2,\n",
    "    brightness_range=(0.3, 1),\n",
    "    horizontal_flip=True,\n",
    "    vertical_flip=True,\n",
    "    preprocessing_function=preprocess_input)\n",
    "train_generator = train_datagen.flow_from_directory(\n",
    "    '../data/images',\n",
    "    target_size=(224, 224),\n",
    "    batch_size=1,\n",
    "    shuffle=True,\n",
    "    class_mode='categorical')"
   ]
  },
  {
   "cell_type": "code",
   "execution_count": 12,
   "id": "666a4f06",
   "metadata": {},
   "outputs": [
    {
     "data": {
      "text/plain": [
       "((1176, 224, 224, 3), (1176, 20))"
      ]
     },
     "execution_count": 12,
     "metadata": {},
     "output_type": "execute_result"
    }
   ],
   "source": [
    "all_data = np.zeros((len(train_generator),224,224,3))\n",
    "all_label = np.zeros((len(train_generator),20))\n",
    "for index in range(len(train_generator)):\n",
    "    all_data[index,:,:,:] = train_generator[index][0]\n",
    "    all_label[index,:] = train_generator[index][1]\n",
    "all_data.shape,all_label.shape"
   ]
  },
  {
   "cell_type": "code",
   "execution_count": 13,
   "id": "9def65c0",
   "metadata": {},
   "outputs": [
    {
     "name": "stdout",
     "output_type": "stream",
     "text": [
      "The proportion of train 0.6998299319727891\n",
      "The proportion of test 0.14965986394557823\n",
      "The proportion of valid 0.15051020408163265\n"
     ]
    }
   ],
   "source": [
    "X_train, X_test, y_train, y_test = train_test_split(all_data,all_label,test_size=0.3,random_state=0)\n",
    "X_test, X_valid, y_test, y_valid = train_test_split(X_test,y_test,test_size=0.5,random_state=0,shuffle = False)\n",
    "print(\"The proportion of train\",X_train.shape[0] / len(train_generator))\n",
    "print(\"The proportion of test\",X_test.shape[0] / len(train_generator))\n",
    "print(\"The proportion of valid\",X_valid.shape[0] / len(train_generator))"
   ]
  },
  {
   "cell_type": "markdown",
   "id": "cb8f2870",
   "metadata": {},
   "source": [
    "#### VGG16"
   ]
  },
  {
   "cell_type": "code",
   "execution_count": 14,
   "id": "3fce1a50",
   "metadata": {},
   "outputs": [],
   "source": [
    "# Download pre training model\n",
    "model = VGG16(weights='imagenet', include_top=False, input_shape=(224,224,3))\n",
    "\n",
    "# Freeze all layers of the pre training model\n",
    "for layer in model.layers:\n",
    "    layer.trainable = False\n",
    "\n",
    "# Add a new classifier\n",
    "x = model.output\n",
    "x = keras.layers.GlobalMaxPooling2D()(x)\n",
    "x = keras.layers.BatchNormalization()(x)\n",
    "x = keras.layers.Dense(1024, activation='relu')(x)\n",
    "x = keras.layers.Dropout(0.2)(x)\n",
    "predictions = keras.layers.Dense(20, activation='softmax')(x)\n",
    "\n",
    "# Build a complete model\n",
    "model = keras.Model(inputs=model.input, outputs=predictions)\n",
    "# Compile model\n",
    "optimizer = Adam(lr=0.001)\n",
    "model.compile(loss='categorical_crossentropy', optimizer=optimizer, metrics=['accuracy'])"
   ]
  },
  {
   "cell_type": "code",
   "execution_count": 15,
   "id": "314baac1",
   "metadata": {},
   "outputs": [
    {
     "name": "stdout",
     "output_type": "stream",
     "text": [
      "Epoch 1/100\n",
      "165/165 [==============================] - 47s 282ms/step - loss: 2.1497 - accuracy: 0.3670 - val_loss: 1.4210 - val_accuracy: 0.5763\n",
      "Epoch 2/100\n",
      "165/165 [==============================] - 46s 281ms/step - loss: 0.6660 - accuracy: 0.7874 - val_loss: 1.5396 - val_accuracy: 0.5932\n",
      "Epoch 3/100\n",
      "165/165 [==============================] - 46s 281ms/step - loss: 0.5108 - accuracy: 0.8238 - val_loss: 1.3514 - val_accuracy: 0.6271\n",
      "Epoch 4/100\n",
      "165/165 [==============================] - 46s 280ms/step - loss: 0.3204 - accuracy: 0.9016 - val_loss: 1.4028 - val_accuracy: 0.6497\n",
      "Epoch 5/100\n",
      "165/165 [==============================] - 47s 287ms/step - loss: 0.3172 - accuracy: 0.8919 - val_loss: 1.7450 - val_accuracy: 0.6610\n",
      "Epoch 6/100\n",
      "165/165 [==============================] - 48s 290ms/step - loss: 0.2460 - accuracy: 0.9259 - val_loss: 1.8890 - val_accuracy: 0.5932\n",
      "Epoch 7/100\n",
      "165/165 [==============================] - 48s 289ms/step - loss: 0.2239 - accuracy: 0.9307 - val_loss: 2.1100 - val_accuracy: 0.5932\n",
      "Epoch 8/100\n",
      "165/165 [==============================] - 48s 289ms/step - loss: 0.2717 - accuracy: 0.9101 - val_loss: 2.2607 - val_accuracy: 0.5763\n",
      "Epoch 9/100\n",
      "165/165 [==============================] - 48s 289ms/step - loss: 0.3197 - accuracy: 0.8870 - val_loss: 2.5001 - val_accuracy: 0.5650\n",
      "Epoch 10/100\n",
      "165/165 [==============================] - 48s 289ms/step - loss: 0.3155 - accuracy: 0.9016 - val_loss: 2.7719 - val_accuracy: 0.5537\n",
      "Epoch 11/100\n",
      "165/165 [==============================] - 48s 289ms/step - loss: 0.3195 - accuracy: 0.9077 - val_loss: 2.6863 - val_accuracy: 0.5932\n",
      "Epoch 12/100\n",
      "165/165 [==============================] - 48s 289ms/step - loss: 0.3920 - accuracy: 0.8882 - val_loss: 2.5880 - val_accuracy: 0.5763\n",
      "Epoch 13/100\n",
      "165/165 [==============================] - 48s 289ms/step - loss: 0.3128 - accuracy: 0.9162 - val_loss: 3.0461 - val_accuracy: 0.5537\n",
      "Epoch 14/100\n",
      "165/165 [==============================] - 48s 289ms/step - loss: 0.2009 - accuracy: 0.9453 - val_loss: 2.9750 - val_accuracy: 0.5989\n",
      "Epoch 15/100\n",
      "165/165 [==============================] - 48s 289ms/step - loss: 0.2725 - accuracy: 0.9320 - val_loss: 2.9264 - val_accuracy: 0.6158\n",
      "Epoch 16/100\n",
      "165/165 [==============================] - 49s 295ms/step - loss: 0.3108 - accuracy: 0.9320 - val_loss: 3.2020 - val_accuracy: 0.5989\n",
      "Epoch 17/100\n",
      "165/165 [==============================] - 51s 307ms/step - loss: 0.2501 - accuracy: 0.9392 - val_loss: 2.7254 - val_accuracy: 0.6441\n",
      "Epoch 18/100\n",
      "165/165 [==============================] - 48s 294ms/step - loss: 0.1947 - accuracy: 0.9490 - val_loss: 3.2023 - val_accuracy: 0.6158\n",
      "Epoch 19/100\n",
      "165/165 [==============================] - 48s 293ms/step - loss: 0.2431 - accuracy: 0.9320 - val_loss: 3.3380 - val_accuracy: 0.6328\n",
      "Epoch 20/100\n",
      "165/165 [==============================] - 48s 292ms/step - loss: 0.2649 - accuracy: 0.9344 - val_loss: 3.2895 - val_accuracy: 0.5989\n",
      "Epoch 21/100\n",
      "165/165 [==============================] - 48s 292ms/step - loss: 0.2153 - accuracy: 0.9453 - val_loss: 3.4012 - val_accuracy: 0.5932\n",
      "Epoch 22/100\n",
      "165/165 [==============================] - 48s 292ms/step - loss: 0.2748 - accuracy: 0.9417 - val_loss: 4.0917 - val_accuracy: 0.5593\n",
      "Epoch 23/100\n",
      "165/165 [==============================] - 48s 292ms/step - loss: 0.2927 - accuracy: 0.9295 - val_loss: 3.2810 - val_accuracy: 0.5706\n",
      "Epoch 24/100\n",
      "165/165 [==============================] - 48s 293ms/step - loss: 0.2489 - accuracy: 0.9392 - val_loss: 3.4310 - val_accuracy: 0.5819\n",
      "Epoch 25/100\n",
      "165/165 [==============================] - 48s 293ms/step - loss: 0.2970 - accuracy: 0.9405 - val_loss: 4.1069 - val_accuracy: 0.5593\n",
      "Epoch 26/100\n",
      "165/165 [==============================] - 48s 293ms/step - loss: 0.2362 - accuracy: 0.9453 - val_loss: 4.3634 - val_accuracy: 0.5876\n",
      "Epoch 27/100\n",
      "165/165 [==============================] - 48s 293ms/step - loss: 0.2468 - accuracy: 0.9417 - val_loss: 3.8919 - val_accuracy: 0.5989\n",
      "Epoch 28/100\n",
      "165/165 [==============================] - 48s 293ms/step - loss: 0.1461 - accuracy: 0.9563 - val_loss: 4.2275 - val_accuracy: 0.5763\n",
      "Epoch 29/100\n",
      "165/165 [==============================] - 48s 292ms/step - loss: 0.2450 - accuracy: 0.9405 - val_loss: 3.8702 - val_accuracy: 0.6215\n",
      "Epoch 30/100\n",
      "165/165 [==============================] - 48s 292ms/step - loss: 0.3037 - accuracy: 0.9392 - val_loss: 3.9172 - val_accuracy: 0.6215\n",
      "Epoch 31/100\n",
      "165/165 [==============================] - 48s 293ms/step - loss: 0.2099 - accuracy: 0.9550 - val_loss: 4.5213 - val_accuracy: 0.5537\n",
      "Epoch 32/100\n",
      "165/165 [==============================] - 48s 292ms/step - loss: 0.1126 - accuracy: 0.9684 - val_loss: 3.8799 - val_accuracy: 0.5763\n",
      "Epoch 33/100\n",
      "165/165 [==============================] - 48s 291ms/step - loss: 0.0791 - accuracy: 0.9757 - val_loss: 4.5637 - val_accuracy: 0.5706\n",
      "Epoch 34/100\n",
      "165/165 [==============================] - 48s 291ms/step - loss: 0.1570 - accuracy: 0.9599 - val_loss: 4.4714 - val_accuracy: 0.5876\n",
      "Epoch 35/100\n",
      "165/165 [==============================] - 48s 291ms/step - loss: 0.1541 - accuracy: 0.9672 - val_loss: 4.5879 - val_accuracy: 0.5706\n",
      "Epoch 36/100\n",
      "165/165 [==============================] - 48s 291ms/step - loss: 0.1854 - accuracy: 0.9611 - val_loss: 4.4956 - val_accuracy: 0.5932\n",
      "Epoch 37/100\n",
      "165/165 [==============================] - 48s 291ms/step - loss: 0.1763 - accuracy: 0.9660 - val_loss: 3.9478 - val_accuracy: 0.5706\n",
      "Epoch 38/100\n",
      "165/165 [==============================] - 48s 292ms/step - loss: 0.2173 - accuracy: 0.9429 - val_loss: 4.3571 - val_accuracy: 0.5537\n",
      "Epoch 39/100\n",
      "165/165 [==============================] - 48s 292ms/step - loss: 0.1950 - accuracy: 0.9563 - val_loss: 4.2808 - val_accuracy: 0.5650\n",
      "Epoch 40/100\n",
      "165/165 [==============================] - 48s 292ms/step - loss: 0.1592 - accuracy: 0.9672 - val_loss: 3.8048 - val_accuracy: 0.5706\n",
      "Epoch 41/100\n",
      "165/165 [==============================] - 48s 291ms/step - loss: 0.1000 - accuracy: 0.9757 - val_loss: 4.0706 - val_accuracy: 0.5989\n",
      "Epoch 42/100\n",
      "165/165 [==============================] - 48s 291ms/step - loss: 0.1370 - accuracy: 0.9696 - val_loss: 3.9313 - val_accuracy: 0.5593\n",
      "Epoch 43/100\n",
      "165/165 [==============================] - 48s 291ms/step - loss: 0.1101 - accuracy: 0.9696 - val_loss: 3.7900 - val_accuracy: 0.5706\n",
      "Epoch 44/100\n",
      "165/165 [==============================] - 48s 291ms/step - loss: 0.0845 - accuracy: 0.9806 - val_loss: 4.0603 - val_accuracy: 0.5932\n",
      "Epoch 45/100\n",
      "165/165 [==============================] - 48s 290ms/step - loss: 0.1531 - accuracy: 0.9684 - val_loss: 4.9506 - val_accuracy: 0.5424\n",
      "Epoch 46/100\n",
      "165/165 [==============================] - 48s 291ms/step - loss: 0.1438 - accuracy: 0.9721 - val_loss: 4.2814 - val_accuracy: 0.5819\n",
      "Epoch 47/100\n",
      "165/165 [==============================] - 48s 291ms/step - loss: 0.1972 - accuracy: 0.9514 - val_loss: 4.1821 - val_accuracy: 0.5876\n",
      "Epoch 48/100\n",
      "165/165 [==============================] - 48s 291ms/step - loss: 0.1809 - accuracy: 0.9599 - val_loss: 4.5079 - val_accuracy: 0.5989\n",
      "Epoch 49/100\n",
      "165/165 [==============================] - 48s 291ms/step - loss: 0.1734 - accuracy: 0.9635 - val_loss: 4.6036 - val_accuracy: 0.6045\n",
      "Epoch 50/100\n",
      "165/165 [==============================] - 48s 292ms/step - loss: 0.1531 - accuracy: 0.9648 - val_loss: 4.3254 - val_accuracy: 0.5876\n",
      "Epoch 51/100\n",
      "165/165 [==============================] - 48s 293ms/step - loss: 0.1453 - accuracy: 0.9684 - val_loss: 3.5811 - val_accuracy: 0.6271\n",
      "Epoch 52/100\n",
      "165/165 [==============================] - 48s 292ms/step - loss: 0.0764 - accuracy: 0.9769 - val_loss: 3.9712 - val_accuracy: 0.6158\n",
      "Epoch 53/100\n",
      "165/165 [==============================] - 48s 292ms/step - loss: 0.1058 - accuracy: 0.9806 - val_loss: 4.7022 - val_accuracy: 0.5819\n"
     ]
    }
   ],
   "source": [
    "# Training model\n",
    "callbacks_list = [EarlyStopping(monitor='val_loss', patience=50),\n",
    "                  ModelCheckpoint(filepath='VGG16_model.h5', monitor='val_loss', save_best_only=True) ]\n",
    "\n",
    "history = model.fit(X_train, y_train, batch_size=5,\n",
    "                    epochs=100, validation_data=(X_valid, y_valid),callbacks=callbacks_list)"
   ]
  },
  {
   "cell_type": "code",
   "execution_count": 16,
   "id": "3fd14172",
   "metadata": {},
   "outputs": [
    {
     "name": "stdout",
     "output_type": "stream",
     "text": [
      "6/6 [==============================] - 8s 1s/step\n"
     ]
    }
   ],
   "source": [
    "pred_prob = model.predict(X_test)\n",
    "pred_value = pred_prob.argmax(axis=1)\n",
    "y_true = y_test.argmax(axis=1)"
   ]
  },
  {
   "cell_type": "markdown",
   "id": "bb175780",
   "metadata": {},
   "source": [
    "### Model Accuracy"
   ]
  },
  {
   "cell_type": "code",
   "execution_count": 17,
   "id": "ad3afbf4",
   "metadata": {},
   "outputs": [
    {
     "name": "stdout",
     "output_type": "stream",
     "text": [
      "              precision    recall  f1-score   support\n",
      "\n",
      "           0       1.00      0.62      0.77         8\n",
      "           1       0.50      0.56      0.53         9\n",
      "           2       0.82      0.69      0.75        13\n",
      "           3       0.83      0.45      0.59        11\n",
      "           4       0.25      0.25      0.25         8\n",
      "           5       0.43      0.67      0.52         9\n",
      "           6       0.56      0.62      0.59         8\n",
      "           7       0.33      0.50      0.40         4\n",
      "           8       0.86      0.60      0.71        10\n",
      "           9       0.88      0.78      0.82         9\n",
      "          10       1.00      0.42      0.59        12\n",
      "          11       0.88      0.88      0.88         8\n",
      "          12       0.00      0.00      0.00         3\n",
      "          13       0.33      0.44      0.38         9\n",
      "          14       0.35      0.67      0.46         9\n",
      "          15       0.57      0.50      0.53         8\n",
      "          16       0.79      0.85      0.81        13\n",
      "          17       0.67      0.50      0.57         8\n",
      "          18       0.40      0.67      0.50         9\n",
      "          19       1.00      0.75      0.86         8\n",
      "\n",
      "    accuracy                           0.60       176\n",
      "   macro avg       0.62      0.57      0.58       176\n",
      "weighted avg       0.67      0.60      0.61       176\n",
      "\n"
     ]
    }
   ],
   "source": [
    "print(classification_report(y_true, pred_value))"
   ]
  },
  {
   "cell_type": "code",
   "execution_count": 18,
   "id": "ddebc558",
   "metadata": {},
   "outputs": [
    {
     "name": "stdout",
     "output_type": "stream",
     "text": [
      "The accuracy_score is: 0.597\n",
      "The precision_score is: 0.622\n",
      "The recall_score is: 0.571\n",
      "The f1_score is: 0.575\n"
     ]
    }
   ],
   "source": [
    "metric_score(y_true,pred_value)"
   ]
  }
 ],
 "metadata": {
  "kernelspec": {
   "display_name": "Python 3",
   "language": "python",
   "name": "python3"
  },
  "language_info": {
   "codemirror_mode": {
    "name": "ipython",
    "version": 3
   },
   "file_extension": ".py",
   "mimetype": "text/x-python",
   "name": "python",
   "nbconvert_exporter": "python",
   "pygments_lexer": "ipython3",
   "version": "3.8.8"
  }
 },
 "nbformat": 4,
 "nbformat_minor": 5
}
